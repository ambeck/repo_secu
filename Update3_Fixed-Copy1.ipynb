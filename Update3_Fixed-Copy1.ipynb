{
 "cells": [
  {
   "cell_type": "markdown",
   "metadata": {},
   "source": [
    "***\n",
    "***\n",
    "# __Update 3__\n",
    "### *Adam Becklehimer*\n",
    "***\n",
    "***"
   ]
  },
  {
   "cell_type": "code",
   "execution_count": 1,
   "metadata": {},
   "outputs": [],
   "source": [
    "from __future__ import division\n",
    "import concurrent.futures\n",
    "import pandas as pd\n",
    "import numpy as np\n",
    "import re\n",
    "from scipy import stats\n",
    "\n",
    "\n",
    "from sklearn.neighbors import KNeighborsClassifier\n",
    "from sklearn.model_selection import cross_val_predict\n",
    "from sklearn.metrics import precision_recall_fscore_support\n",
    "from joblib import Parallel, delayed\n",
    "import multiprocessing\n",
    "from sklearn.naive_bayes import GaussianNB\n",
    "from sklearn.naive_bayes import BernoulliNB\n",
    "from sklearn.tree import DecisionTreeClassifier\n",
    "from sklearn.neural_network import MLPClassifier\n",
    "from sklearn.ensemble import RandomForestClassifier\n",
    "#from sklearn.preprocessing import LabelEncoder\n",
    "#from sklearn.preprocessing import OneHotEncoder\n",
    "#from sklearn import preprocessing\n",
    "from sklearn.preprocessing import label_binarize\n",
    "from sklearn.metrics import confusion_matrix\n",
    "from sklearn.preprocessing import StandardScaler"
   ]
  },
  {
   "cell_type": "code",
   "execution_count": 2,
   "metadata": {},
   "outputs": [],
   "source": [
    "from keras.models import Sequential\n",
    "from keras.layers import Dense, Dropout, Conv1D, Flatten, MaxPooling1D"
   ]
  },
  {
   "cell_type": "code",
   "execution_count": 3,
   "metadata": {},
   "outputs": [],
   "source": [
    "from collections import Counter\n",
    "from imblearn.over_sampling import SMOTE"
   ]
  },
  {
   "cell_type": "markdown",
   "metadata": {},
   "source": [
    "***\n",
    "***\n",
    "## Setup\n",
    "***\n",
    "***\n"
   ]
  },
  {
   "cell_type": "code",
   "execution_count": 4,
   "metadata": {},
   "outputs": [],
   "source": [
    "def runs(lst):\n",
    "\t#\"Iterator, chunks repeated values\"\n",
    "    for j,two in enumerate(lst):\n",
    "        if j == 0:\n",
    "            one,i = two,0\n",
    "        if one!=two:\n",
    "            yield j - i,one\n",
    "            i = j\n",
    "        one=two\n",
    "    yield j - i + 1,two\n",
    "\n",
    "\n",
    "def cliffsDelta(lst1,lst2,dull = [0.147, 0.33, 0.474, ][0] ):\n",
    "    #\"Returns true if there are more than 'dull' differences\"\n",
    "    m, n = len(lst1), len(lst2)\n",
    "    lst2 = sorted(lst2)\n",
    "    j = more = less = 0\n",
    "    for repeats,x in runs(sorted(lst1)):\n",
    "        while j <= (n - 1) and lst2[j] <  x:\n",
    "            j += 1\n",
    "        more += j*repeats\n",
    "        while j <= (n - 1) and lst2[j] == x:\n",
    "            j += 1\n",
    "        less += (n - j)*repeats\n",
    "        d= (more - less) / (m*n)\n",
    "\t# return abs(d)  > dull\n",
    "    return round(abs(d), 3) ### return the clacluated cliffs delat\n",
    "\t\n",
    "\n",
    "def _cliffsDelta():\n",
    "\t#\"demo function\"\n",
    "    lst1=[1,2,3,4,5,6,7]\n",
    "    for r in [1.01,1.1,1.21, 1.5, 2]:\n",
    "        lst2=map(lambda x: x*r,lst1)\n",
    "        print (r,cliffsDelta(lst1,lst2)) # should return False\n",
    "df_mann= list()\n",
    "def compareLists(defective_vals_for_feature, non_defective_vals_for_feature):\n",
    "\n",
    "        print ('='*25)\n",
    "        print (\"Defective values [MEDIAN]:{}, [MEAN]:{}, [COUNT]:{}\".format(np.median(list(defective_vals_for_feature)), np.mean(list(defective_vals_for_feature)), len(defective_vals_for_feature)))\n",
    "        print (\"Non Defective values [MEDIAN]:{}, [MEAN]:{}, [COUNT]:{}\".format(np.median(list(non_defective_vals_for_feature)), np.mean(list(non_defective_vals_for_feature)), len(non_defective_vals_for_feature)))\n",
    "        try:\n",
    "            TS, p = stats.mannwhitneyu(list(defective_vals_for_feature), list(non_defective_vals_for_feature), alternative='greater')\n",
    "        except ValueError:\n",
    "            TS, p = 0.0, 1.0\n",
    "        cliffs_delta = cliffsDelta(list(defective_vals_for_feature), list(non_defective_vals_for_feature))\n",
    "        df_mann.append((p,cliffs_delta))\n",
    "        print ('*'*25)\n",
    "        #print ('Feature:{}, pee value:{}, cliffs:{}'.format(feature_, p, cliffs_delta))\n",
    "        print ('p value:{}, cliffs:{}'.format(p, cliffs_delta))\n",
    "        print ('*'*25)\n",
    "        print ('='*50)"
   ]
  },
  {
   "cell_type": "code",
   "execution_count": 5,
   "metadata": {},
   "outputs": [
    {
     "name": "stdout",
     "output_type": "stream",
     "text": [
      "<Future at 0x7ffb1c5095f8 state=running>\n"
     ]
    }
   ],
   "source": [
    "executor = concurrent.futures.ThreadPoolExecutor(max_workers=28)\n",
    "\n",
    "def read():\n",
    "    df_ = pd.read_csv('repo_secu.csv', engine = 'python')\n",
    "    return df_\n",
    "\n",
    "a = executor.submit(read)\n",
    "\n",
    "print(a)"
   ]
  },
  {
   "cell_type": "code",
   "execution_count": 6,
   "metadata": {},
   "outputs": [
    {
     "name": "stdout",
     "output_type": "stream",
     "text": [
      "<Future at 0x7ffb1c5095f8 state=running>\n"
     ]
    }
   ],
   "source": [
    "print(a)"
   ]
  },
  {
   "cell_type": "code",
   "execution_count": 7,
   "metadata": {},
   "outputs": [
    {
     "data": {
      "text/plain": [
       "array(['ComputationalChemistry', 'Astronomy', 'ComputationalBiology',\n",
       "       'ComputationalScience', 'ComputationalIntelligence'], dtype=object)"
      ]
     },
     "execution_count": 7,
     "metadata": {},
     "output_type": "execute_result"
    }
   ],
   "source": [
    "df_ = a.result()\n",
    "#print(df_)\n",
    "df_.REPO_TYPE.unique()"
   ]
  },
  {
   "cell_type": "code",
   "execution_count": 8,
   "metadata": {},
   "outputs": [],
   "source": [
    "df_comp_bio = (df_[df_['REPO_TYPE']== 'ComputationalBiology'])\n",
    "df_astronomy = (df_[df_['REPO_TYPE'] == 'Astronomy'])\n",
    "df_comp_chem = (df_[df_['REPO_TYPE'] == 'ComputationalChemistry'])\n",
    "df_comp_sci = (df_[df_['REPO_TYPE'] == 'ComputationalScience'])\n",
    "df_comp_intel = (df_[df_['REPO_TYPE'] == 'ComputationalIntelligence'])\n",
    "df_others = pd.concat([df_comp_sci, df_comp_intel], axis=0)\n",
    "\n",
    "\n",
    "df_comp_bio_full = df_comp_bio[[\"PRIOR_AGE\",\"ADD_LOC\",\"DEL_LOC\",\"TOT_LOC\", \"DEV_EXP\", \"DEV_RECENT\" , \"CHANGE_FILE_CNT\", \"SECU_FLAG\"]]\n",
    "df_astro_full = df_astronomy[[\"PRIOR_AGE\",\"ADD_LOC\",\"DEL_LOC\",\"TOT_LOC\", \"DEV_EXP\", \"DEV_RECENT\",  \"CHANGE_FILE_CNT\", \"SECU_FLAG\"]]\n",
    "df_comp_chem_full = df_comp_chem[[\"PRIOR_AGE\",\"ADD_LOC\",\"DEL_LOC\",\"TOT_LOC\", \"DEV_EXP\", \"DEV_RECENT\" , \"CHANGE_FILE_CNT\", \"SECU_FLAG\"]]\n",
    "df_others_full = df_others[[\"PRIOR_AGE\",\"ADD_LOC\",\"DEL_LOC\",\"TOT_LOC\", \"DEV_EXP\", \"DEV_RECENT\",  \"CHANGE_FILE_CNT\", \"SECU_FLAG\"]]"
   ]
  },
  {
   "cell_type": "markdown",
   "metadata": {},
   "source": [
    "***\n",
    "***\n",
    "## Mann - Whitney U Test and Effect Size\n",
    "***\n",
    "***"
   ]
  },
  {
   "cell_type": "code",
   "execution_count": 9,
   "metadata": {},
   "outputs": [],
   "source": [
    "def Mann (model,feature):\n",
    "    valid_features =[]\n",
    "    invalid_features =[]\n",
    "    for index, row in model.iterrows():\n",
    "        if(row['SECU_FLAG'] == \"NEUTRAL\"):\n",
    "            valid_features.append(row[feature])\n",
    "        else:\n",
    "            invalid_features.append(row[feature])\n",
    "   \n",
    "    #print(str(model))\n",
    "    print(\"  \")\n",
    "    print( feature)\n",
    "    print(\"\\n\")\n",
    "    compareLists(invalid_features,valid_features)\n",
    "    return 0"
   ]
  },
  {
   "cell_type": "code",
   "execution_count": 10,
   "metadata": {
    "scrolled": true
   },
   "outputs": [
    {
     "name": "stdout",
     "output_type": "stream",
     "text": [
      "MAN WHITNEY U TEST FOR df_others\n",
      "  \n",
      "ADD_LOC\n",
      "\n",
      "\n",
      "=========================\n",
      "Defective values [MEDIAN]:49.0, [MEAN]:360.4206008583691, [COUNT]:233\n",
      "Non Defective values [MEDIAN]:23.0, [MEAN]:593.3756552125801, [COUNT]:5151\n",
      "*************************\n",
      "p value:5.4656250954923225e-06, cliffs:0.17\n",
      "*************************\n",
      "==================================================\n",
      "MAN WHITNEY U TEST FOR df_comp_bio_full\n",
      "  \n",
      "ADD_LOC\n",
      "\n",
      "\n",
      "=========================\n",
      "Defective values [MEDIAN]:16.0, [MEAN]:524.2652541833684, [COUNT]:15717\n",
      "Non Defective values [MEDIAN]:11.0, [MEAN]:663.8411968646367, [COUNT]:159216\n",
      "*************************\n",
      "p value:7.19411106581891e-82, cliffs:0.092\n",
      "*************************\n",
      "==================================================\n",
      "MAN WHITNEY U TEST FOR df_astro_full\n",
      "  \n",
      "ADD_LOC\n",
      "\n",
      "\n",
      "=========================\n",
      "Defective values [MEDIAN]:14.0, [MEAN]:146.26299504950495, [COUNT]:4848\n",
      "Non Defective values [MEDIAN]:11.0, [MEAN]:307.9216749871992, [COUNT]:62496\n",
      "*************************\n",
      "p value:2.4756092002005906e-16, cliffs:0.07\n",
      "*************************\n",
      "==================================================\n",
      "MAN WHITNEY U TEST FOR df_comp_chem_full\n",
      "  \n",
      "ADD_LOC\n",
      "\n",
      "\n",
      "=========================\n",
      "Defective values [MEDIAN]:28.0, [MEAN]:1583.1567711807872, [COUNT]:2998\n",
      "Non Defective values [MEDIAN]:16.0, [MEAN]:2285.5323602647936, [COUNT]:49397\n",
      "*************************\n",
      "p value:2.0336285177180795e-26, cliffs:0.115\n",
      "*************************\n",
      "==================================================\n",
      "\n",
      "\n",
      "\n",
      "\n",
      "\n",
      "MAN WHITNEY U TEST FOR df_others\n",
      "  \n",
      "PRIOR_AGE\n",
      "\n",
      "\n",
      "=========================\n",
      "Defective values [MEDIAN]:2645.0, [MEAN]:2365.772532188841, [COUNT]:233\n",
      "Non Defective values [MEDIAN]:2682.0, [MEAN]:2469.4348670161135, [COUNT]:5151\n",
      "*************************\n",
      "p value:0.9981342553022248, cliffs:0.112\n",
      "*************************\n",
      "==================================================\n",
      "MAN WHITNEY U TEST FOR df_comp_bio_full\n",
      "  \n",
      "PRIOR_AGE\n",
      "\n",
      "\n",
      "=========================\n",
      "Defective values [MEDIAN]:1949.0, [MEAN]:1995.6268371826684, [COUNT]:15717\n",
      "Non Defective values [MEDIAN]:1937.0, [MEAN]:2059.6142661541553, [COUNT]:159216\n",
      "*************************\n",
      "p value:0.9807042789914021, cliffs:0.01\n",
      "*************************\n",
      "==================================================\n",
      "MAN WHITNEY U TEST FOR df_astro_full\n",
      "  \n",
      "PRIOR_AGE\n",
      "\n",
      "\n",
      "=========================\n",
      "Defective values [MEDIAN]:1302.5, [MEAN]:1440.9917491749175, [COUNT]:4848\n",
      "Non Defective values [MEDIAN]:1320.0, [MEAN]:1434.130136328725, [COUNT]:62496\n",
      "*************************\n",
      "p value:0.27880196295984894, cliffs:0.005\n",
      "*************************\n",
      "==================================================\n",
      "MAN WHITNEY U TEST FOR df_comp_chem_full\n",
      "  \n",
      "PRIOR_AGE\n",
      "\n",
      "\n",
      "=========================\n",
      "Defective values [MEDIAN]:2930.5, [MEAN]:3284.8298865910606, [COUNT]:2998\n",
      "Non Defective values [MEDIAN]:2950.0, [MEAN]:3428.899325869992, [COUNT]:49397\n",
      "*************************\n",
      "p value:0.9673685691752782, cliffs:0.02\n",
      "*************************\n",
      "==================================================\n",
      "\n",
      "\n",
      "\n",
      "\n",
      "\n",
      "MAN WHITNEY U TEST FOR df_others\n",
      "  \n",
      "DEL_LOC\n",
      "\n",
      "\n",
      "=========================\n",
      "Defective values [MEDIAN]:14.0, [MEAN]:361.4549356223176, [COUNT]:233\n",
      "Non Defective values [MEDIAN]:9.0, [MEAN]:374.68608037274316, [COUNT]:5151\n",
      "*************************\n",
      "p value:0.00147303305902131, cliffs:0.115\n",
      "*************************\n",
      "==================================================\n",
      "MAN WHITNEY U TEST FOR df_comp_bio_full\n",
      "  \n",
      "DEL_LOC\n",
      "\n",
      "\n",
      "=========================\n",
      "Defective values [MEDIAN]:5.0, [MEAN]:229.87300375389705, [COUNT]:15717\n",
      "Non Defective values [MEDIAN]:4.0, [MEAN]:472.9598784041805, [COUNT]:159216\n",
      "*************************\n",
      "p value:5.876285859999854e-11, cliffs:0.031\n",
      "*************************\n",
      "==================================================\n",
      "MAN WHITNEY U TEST FOR df_astro_full\n",
      "  \n",
      "DEL_LOC\n",
      "\n",
      "\n",
      "=========================\n",
      "Defective values [MEDIAN]:5.0, [MEAN]:64.5039191419142, [COUNT]:4848\n",
      "Non Defective values [MEDIAN]:4.0, [MEAN]:227.36736751152074, [COUNT]:62496\n",
      "*************************\n",
      "p value:4.196513850938514e-05, cliffs:0.034\n",
      "*************************\n",
      "==================================================\n",
      "MAN WHITNEY U TEST FOR df_comp_chem_full\n",
      "  \n",
      "DEL_LOC\n",
      "\n",
      "\n",
      "=========================\n",
      "Defective values [MEDIAN]:6.0, [MEAN]:897.7728485657104, [COUNT]:2998\n",
      "Non Defective values [MEDIAN]:5.0, [MEAN]:1412.4137498228638, [COUNT]:49397\n",
      "*************************\n",
      "p value:9.398208441602705e-10, cliffs:0.065\n",
      "*************************\n",
      "==================================================\n",
      "\n",
      "\n",
      "\n",
      "\n",
      "\n",
      "MAN WHITNEY U TEST FOR df_others\n",
      "  \n",
      "TOT_LOC\n",
      "\n",
      "\n",
      "=========================\n",
      "Defective values [MEDIAN]:74.0, [MEAN]:721.8755364806867, [COUNT]:233\n",
      "Non Defective values [MEDIAN]:44.0, [MEAN]:968.0617355853233, [COUNT]:5151\n",
      "*************************\n",
      "p value:0.00028642114326557836, cliffs:0.133\n",
      "*************************\n",
      "==================================================\n",
      "MAN WHITNEY U TEST FOR df_comp_bio_full\n",
      "  \n",
      "TOT_LOC\n",
      "\n",
      "\n",
      "=========================\n",
      "Defective values [MEDIAN]:26.0, [MEAN]:754.1382579372654, [COUNT]:15717\n",
      "Non Defective values [MEDIAN]:19.0, [MEAN]:1136.8010752688172, [COUNT]:159216\n",
      "*************************\n",
      "p value:6.192718020241995e-47, cliffs:0.069\n",
      "*************************\n",
      "==================================================\n",
      "MAN WHITNEY U TEST FOR df_astro_full\n",
      "  \n",
      "TOT_LOC\n",
      "\n",
      "\n",
      "=========================\n",
      "Defective values [MEDIAN]:22.0, [MEAN]:210.76691419141915, [COUNT]:4848\n",
      "Non Defective values [MEDIAN]:19.0, [MEAN]:535.2890424987199, [COUNT]:62496\n",
      "*************************\n",
      "p value:5.722975022020449e-09, cliffs:0.049\n",
      "*************************\n",
      "==================================================\n",
      "MAN WHITNEY U TEST FOR df_comp_chem_full\n",
      "  \n",
      "TOT_LOC\n",
      "\n",
      "\n",
      "=========================\n",
      "Defective values [MEDIAN]:44.0, [MEAN]:2480.929619746498, [COUNT]:2998\n",
      "Non Defective values [MEDIAN]:26.0, [MEAN]:3697.946110087657, [COUNT]:49397\n",
      "*************************\n",
      "p value:6.601311482264931e-20, cliffs:0.098\n",
      "*************************\n",
      "==================================================\n",
      "\n",
      "\n",
      "\n",
      "\n",
      "\n",
      "MAN WHITNEY U TEST FOR df_others\n",
      "  \n",
      "DEV_EXP\n",
      "\n",
      "\n",
      "=========================\n",
      "Defective values [MEDIAN]:565.0, [MEAN]:602.6738197424893, [COUNT]:233\n",
      "Non Defective values [MEDIAN]:521.0, [MEAN]:518.986022131625, [COUNT]:5151\n",
      "*************************\n",
      "p value:0.00034586308637301824, cliffs:0.13\n",
      "*************************\n",
      "==================================================\n",
      "MAN WHITNEY U TEST FOR df_comp_bio_full\n",
      "  \n",
      "DEV_EXP\n",
      "\n",
      "\n",
      "=========================\n",
      "Defective values [MEDIAN]:2308.0, [MEAN]:2825.6417255201372, [COUNT]:15717\n",
      "Non Defective values [MEDIAN]:1667.0, [MEAN]:2271.238204703045, [COUNT]:159216\n",
      "*************************\n",
      "p value:2.494983410363994e-152, cliffs:0.127\n",
      "*************************\n",
      "==================================================\n",
      "MAN WHITNEY U TEST FOR df_astro_full\n",
      "  \n",
      "DEV_EXP\n",
      "\n",
      "\n",
      "=========================\n",
      "Defective values [MEDIAN]:794.0, [MEAN]:1221.648514851485, [COUNT]:4848\n",
      "Non Defective values [MEDIAN]:801.0, [MEAN]:1287.379640296979, [COUNT]:62496\n",
      "*************************\n",
      "p value:0.9999999824857182, cliffs:0.047\n",
      "*************************\n",
      "==================================================\n",
      "MAN WHITNEY U TEST FOR df_comp_chem_full\n",
      "  \n",
      "DEV_EXP\n",
      "\n",
      "\n",
      "=========================\n",
      "Defective values [MEDIAN]:897.0, [MEAN]:1088.8122081387592, [COUNT]:2998\n",
      "Non Defective values [MEDIAN]:908.0, [MEAN]:1336.4673158288965, [COUNT]:49397\n",
      "*************************\n",
      "p value:0.9999999993721725, cliffs:0.066\n",
      "*************************\n",
      "==================================================\n",
      "\n",
      "\n",
      "\n",
      "\n",
      "\n",
      "MAN WHITNEY U TEST FOR df_others\n",
      "  \n",
      "DEV_RECENT\n",
      "\n",
      "\n",
      "=========================\n",
      "Defective values [MEDIAN]:284.5, [MEAN]:202.63726145922746, [COUNT]:233\n",
      "Non Defective values [MEDIAN]:148.46905, [MEAN]:196.79182006988935, [COUNT]:5151\n",
      "*************************\n",
      "p value:0.41474560966472557, cliffs:0.008\n",
      "*************************\n",
      "==================================================\n",
      "MAN WHITNEY U TEST FOR df_comp_bio_full\n",
      "  \n",
      "DEV_RECENT\n",
      "\n",
      "\n",
      "=========================\n",
      "Defective values [MEDIAN]:641.5, [MEAN]:861.311542933766, [COUNT]:15717\n",
      "Non Defective values [MEDIAN]:416.75159, [MEAN]:635.6914109125966, [COUNT]:159216\n",
      "*************************\n",
      "p value:3.282894799164704e-262, cliffs:0.167\n",
      "*************************\n",
      "==================================================\n",
      "MAN WHITNEY U TEST FOR df_astro_full\n"
     ]
    },
    {
     "name": "stdout",
     "output_type": "stream",
     "text": [
      "  \n",
      "DEV_RECENT\n",
      "\n",
      "\n",
      "=========================\n",
      "Defective values [MEDIAN]:253.1369, [MEAN]:378.27465767120464, [COUNT]:4848\n",
      "Non Defective values [MEDIAN]:272.16667, [MEAN]:419.5081930446749, [COUNT]:62496\n",
      "*************************\n",
      "p value:0.9999999999999996, cliffs:0.069\n",
      "*************************\n",
      "==================================================\n",
      "MAN WHITNEY U TEST FOR df_comp_chem_full\n",
      "  \n",
      "DEV_RECENT\n",
      "\n",
      "\n",
      "=========================\n",
      "Defective values [MEDIAN]:226.35476, [MEAN]:229.05166287191457, [COUNT]:2998\n",
      "Non Defective values [MEDIAN]:200.50238, [MEAN]:256.8828277733466, [COUNT]:49397\n",
      "*************************\n",
      "p value:0.9964186493408792, cliffs:0.029\n",
      "*************************\n",
      "==================================================\n",
      "\n",
      "\n",
      "\n",
      "\n",
      "\n",
      "MAN WHITNEY U TEST FOR df_others\n",
      "  \n",
      "CHANGE_FILE_CNT\n",
      "\n",
      "\n",
      "=========================\n",
      "Defective values [MEDIAN]:2.0, [MEAN]:24.510729613733904, [COUNT]:233\n",
      "Non Defective values [MEDIAN]:2.0, [MEAN]:12.26227916909338, [COUNT]:5151\n",
      "*************************\n",
      "p value:0.02750644740917249, cliffs:0.072\n",
      "*************************\n",
      "==================================================\n",
      "MAN WHITNEY U TEST FOR df_comp_bio_full\n",
      "  \n",
      "CHANGE_FILE_CNT\n",
      "\n",
      "\n",
      "=========================\n",
      "Defective values [MEDIAN]:2.0, [MEAN]:7.046764649742317, [COUNT]:15717\n",
      "Non Defective values [MEDIAN]:1.0, [MEAN]:8.001036328007235, [COUNT]:159216\n",
      "*************************\n",
      "p value:1.4179917426099934e-32, cliffs:0.054\n",
      "*************************\n",
      "==================================================\n",
      "MAN WHITNEY U TEST FOR df_astro_full\n",
      "  \n",
      "CHANGE_FILE_CNT\n",
      "\n",
      "\n",
      "=========================\n",
      "Defective values [MEDIAN]:1.0, [MEAN]:3.8372524752475248, [COUNT]:4848\n",
      "Non Defective values [MEDIAN]:1.0, [MEAN]:4.916426651305684, [COUNT]:62496\n",
      "*************************\n",
      "p value:0.967417944828221, cliffs:0.014\n",
      "*************************\n",
      "==================================================\n",
      "MAN WHITNEY U TEST FOR df_comp_chem_full\n",
      "  \n",
      "CHANGE_FILE_CNT\n",
      "\n",
      "\n",
      "=========================\n",
      "Defective values [MEDIAN]:2.0, [MEAN]:15.309873248832554, [COUNT]:2998\n",
      "Non Defective values [MEDIAN]:1.0, [MEAN]:12.104702714739762, [COUNT]:49397\n",
      "*************************\n",
      "p value:6.604763597381699e-07, cliffs:0.049\n",
      "*************************\n",
      "==================================================\n",
      "\n",
      "\n",
      "\n",
      "\n",
      "\n"
     ]
    }
   ],
   "source": [
    "print(\"MAN WHITNEY U TEST FOR df_others\")\n",
    "Mann(df_others_full,\"ADD_LOC\")\n",
    "print(\"MAN WHITNEY U TEST FOR df_comp_bio_full\")\n",
    "Mann(df_comp_bio_full,\"ADD_LOC\")\n",
    "print(\"MAN WHITNEY U TEST FOR df_astro_full\")\n",
    "Mann(df_astro_full,\"ADD_LOC\")\n",
    "print(\"MAN WHITNEY U TEST FOR df_comp_chem_full\")\n",
    "Mann(df_comp_chem_full,\"ADD_LOC\")\n",
    "print(\"\\n\\n\\n\\n\")\n",
    "\n",
    "print(\"MAN WHITNEY U TEST FOR df_others\")\n",
    "Mann(df_others_full,\"PRIOR_AGE\")\n",
    "print(\"MAN WHITNEY U TEST FOR df_comp_bio_full\")\n",
    "Mann(df_comp_bio_full,\"PRIOR_AGE\")\n",
    "print(\"MAN WHITNEY U TEST FOR df_astro_full\")\n",
    "Mann(df_astro_full,\"PRIOR_AGE\")\n",
    "print(\"MAN WHITNEY U TEST FOR df_comp_chem_full\")\n",
    "Mann(df_comp_chem_full,\"PRIOR_AGE\")\n",
    "print(\"\\n\\n\\n\\n\")\n",
    "\n",
    "print(\"MAN WHITNEY U TEST FOR df_others\")\n",
    "Mann(df_others_full,\"DEL_LOC\")\n",
    "print(\"MAN WHITNEY U TEST FOR df_comp_bio_full\")\n",
    "Mann(df_comp_bio_full,\"DEL_LOC\")\n",
    "print(\"MAN WHITNEY U TEST FOR df_astro_full\")\n",
    "Mann(df_astro_full,\"DEL_LOC\")\n",
    "print(\"MAN WHITNEY U TEST FOR df_comp_chem_full\")\n",
    "Mann(df_comp_chem_full,\"DEL_LOC\")\n",
    "print(\"\\n\\n\\n\\n\")\n",
    "\n",
    "\n",
    "print(\"MAN WHITNEY U TEST FOR df_others\")\n",
    "Mann(df_others_full,\"TOT_LOC\")\n",
    "print(\"MAN WHITNEY U TEST FOR df_comp_bio_full\")\n",
    "Mann(df_comp_bio_full,\"TOT_LOC\")\n",
    "print(\"MAN WHITNEY U TEST FOR df_astro_full\")\n",
    "Mann(df_astro_full,\"TOT_LOC\")\n",
    "print(\"MAN WHITNEY U TEST FOR df_comp_chem_full\")\n",
    "Mann(df_comp_chem_full,\"TOT_LOC\")\n",
    "print(\"\\n\\n\\n\\n\")\n",
    "\n",
    "print(\"MAN WHITNEY U TEST FOR df_others\")\n",
    "Mann(df_others_full,\"DEV_EXP\")\n",
    "print(\"MAN WHITNEY U TEST FOR df_comp_bio_full\")\n",
    "Mann(df_comp_bio_full,\"DEV_EXP\")\n",
    "print(\"MAN WHITNEY U TEST FOR df_astro_full\")\n",
    "Mann(df_astro_full,\"DEV_EXP\")\n",
    "print(\"MAN WHITNEY U TEST FOR df_comp_chem_full\")\n",
    "Mann(df_comp_chem_full,\"DEV_EXP\")\n",
    "print(\"\\n\\n\\n\\n\")\n",
    "\n",
    "print(\"MAN WHITNEY U TEST FOR df_others\")\n",
    "Mann(df_others_full,\"DEV_RECENT\")\n",
    "print(\"MAN WHITNEY U TEST FOR df_comp_bio_full\")\n",
    "Mann(df_comp_bio_full,\"DEV_RECENT\")\n",
    "print(\"MAN WHITNEY U TEST FOR df_astro_full\")\n",
    "Mann(df_astro_full,\"DEV_RECENT\")\n",
    "print(\"MAN WHITNEY U TEST FOR df_comp_chem_full\")\n",
    "Mann(df_comp_chem_full,\"DEV_RECENT\")\n",
    "print(\"\\n\\n\\n\\n\")\n",
    "\n",
    "\n",
    "\n",
    "print(\"MAN WHITNEY U TEST FOR df_others\")\n",
    "Mann(df_others_full,\"CHANGE_FILE_CNT\")\n",
    "print(\"MAN WHITNEY U TEST FOR df_comp_bio_full\")\n",
    "Mann(df_comp_bio_full,\"CHANGE_FILE_CNT\")\n",
    "print(\"MAN WHITNEY U TEST FOR df_astro_full\")\n",
    "Mann(df_astro_full,\"CHANGE_FILE_CNT\")\n",
    "print(\"MAN WHITNEY U TEST FOR df_comp_chem_full\")\n",
    "Mann(df_comp_chem_full,\"CHANGE_FILE_CNT\")\n",
    "print(\"\\n\\n\\n\\n\")"
   ]
  },
  {
   "cell_type": "code",
   "execution_count": 11,
   "metadata": {},
   "outputs": [],
   "source": [
    "row = list()\n",
    "cols  = [\"ADD_LOC\",\"PRIOR_AGE\",\"DEL_LOC\",\"TOT_LOC\", \"DEV_EXP\", \"DEV_RECENT\" , \"CHANGE_FILE_CNT\", \"SECU_FLAG\"]\n",
    "j = 0\n",
    "k =0\n",
    "for i in range(7):\n",
    "    row.append('OTHERS_' +cols[j])\n",
    "    row.append('BIO_' + cols[j])\n",
    "    row.append('ASTRO_' + cols[j])\n",
    "    row.append('CHEM_' + cols[j])\n",
    "    j+=1\n",
    "\n",
    "df = pd.DataFrame(df_mann,columns = ['p-value','cliff_delta'],index=row)\n",
    "\n",
    "    "
   ]
  },
  {
   "cell_type": "code",
   "execution_count": 12,
   "metadata": {},
   "outputs": [
    {
     "data": {
      "text/html": [
       "<div>\n",
       "<style scoped>\n",
       "    .dataframe tbody tr th:only-of-type {\n",
       "        vertical-align: middle;\n",
       "    }\n",
       "\n",
       "    .dataframe tbody tr th {\n",
       "        vertical-align: top;\n",
       "    }\n",
       "\n",
       "    .dataframe thead th {\n",
       "        text-align: right;\n",
       "    }\n",
       "</style>\n",
       "<table border=\"1\" class=\"dataframe\">\n",
       "  <thead>\n",
       "    <tr style=\"text-align: right;\">\n",
       "      <th></th>\n",
       "      <th>p-value</th>\n",
       "      <th>cliff_delta</th>\n",
       "    </tr>\n",
       "  </thead>\n",
       "  <tbody>\n",
       "    <tr>\n",
       "      <th>OTHERSADD_LOC</th>\n",
       "      <td>5.465625e-06</td>\n",
       "      <td>0.170</td>\n",
       "    </tr>\n",
       "    <tr>\n",
       "      <th>BIOADD_LOC</th>\n",
       "      <td>7.194111e-82</td>\n",
       "      <td>0.092</td>\n",
       "    </tr>\n",
       "    <tr>\n",
       "      <th>ASTROADD_LOC</th>\n",
       "      <td>2.475609e-16</td>\n",
       "      <td>0.070</td>\n",
       "    </tr>\n",
       "    <tr>\n",
       "      <th>CHEMADD_LOC</th>\n",
       "      <td>2.033629e-26</td>\n",
       "      <td>0.115</td>\n",
       "    </tr>\n",
       "    <tr>\n",
       "      <th>OTHERSPRIOR_AGE</th>\n",
       "      <td>9.981343e-01</td>\n",
       "      <td>0.112</td>\n",
       "    </tr>\n",
       "    <tr>\n",
       "      <th>BIOPRIOR_AGE</th>\n",
       "      <td>9.807043e-01</td>\n",
       "      <td>0.010</td>\n",
       "    </tr>\n",
       "    <tr>\n",
       "      <th>ASTROPRIOR_AGE</th>\n",
       "      <td>2.788020e-01</td>\n",
       "      <td>0.005</td>\n",
       "    </tr>\n",
       "    <tr>\n",
       "      <th>CHEMPRIOR_AGE</th>\n",
       "      <td>9.673686e-01</td>\n",
       "      <td>0.020</td>\n",
       "    </tr>\n",
       "    <tr>\n",
       "      <th>OTHERSDEL_LOC</th>\n",
       "      <td>1.473033e-03</td>\n",
       "      <td>0.115</td>\n",
       "    </tr>\n",
       "    <tr>\n",
       "      <th>BIODEL_LOC</th>\n",
       "      <td>5.876286e-11</td>\n",
       "      <td>0.031</td>\n",
       "    </tr>\n",
       "    <tr>\n",
       "      <th>ASTRODEL_LOC</th>\n",
       "      <td>4.196514e-05</td>\n",
       "      <td>0.034</td>\n",
       "    </tr>\n",
       "    <tr>\n",
       "      <th>CHEMDEL_LOC</th>\n",
       "      <td>9.398208e-10</td>\n",
       "      <td>0.065</td>\n",
       "    </tr>\n",
       "    <tr>\n",
       "      <th>OTHERSTOT_LOC</th>\n",
       "      <td>2.864211e-04</td>\n",
       "      <td>0.133</td>\n",
       "    </tr>\n",
       "    <tr>\n",
       "      <th>BIOTOT_LOC</th>\n",
       "      <td>6.192718e-47</td>\n",
       "      <td>0.069</td>\n",
       "    </tr>\n",
       "    <tr>\n",
       "      <th>ASTROTOT_LOC</th>\n",
       "      <td>5.722975e-09</td>\n",
       "      <td>0.049</td>\n",
       "    </tr>\n",
       "    <tr>\n",
       "      <th>CHEMTOT_LOC</th>\n",
       "      <td>6.601311e-20</td>\n",
       "      <td>0.098</td>\n",
       "    </tr>\n",
       "    <tr>\n",
       "      <th>OTHERSDEV_EXP</th>\n",
       "      <td>3.458631e-04</td>\n",
       "      <td>0.130</td>\n",
       "    </tr>\n",
       "    <tr>\n",
       "      <th>BIODEV_EXP</th>\n",
       "      <td>2.494983e-152</td>\n",
       "      <td>0.127</td>\n",
       "    </tr>\n",
       "    <tr>\n",
       "      <th>ASTRODEV_EXP</th>\n",
       "      <td>1.000000e+00</td>\n",
       "      <td>0.047</td>\n",
       "    </tr>\n",
       "    <tr>\n",
       "      <th>CHEMDEV_EXP</th>\n",
       "      <td>1.000000e+00</td>\n",
       "      <td>0.066</td>\n",
       "    </tr>\n",
       "    <tr>\n",
       "      <th>OTHERSDEV_RECENT</th>\n",
       "      <td>4.147456e-01</td>\n",
       "      <td>0.008</td>\n",
       "    </tr>\n",
       "    <tr>\n",
       "      <th>BIODEV_RECENT</th>\n",
       "      <td>3.282895e-262</td>\n",
       "      <td>0.167</td>\n",
       "    </tr>\n",
       "    <tr>\n",
       "      <th>ASTRODEV_RECENT</th>\n",
       "      <td>1.000000e+00</td>\n",
       "      <td>0.069</td>\n",
       "    </tr>\n",
       "    <tr>\n",
       "      <th>CHEMDEV_RECENT</th>\n",
       "      <td>9.964186e-01</td>\n",
       "      <td>0.029</td>\n",
       "    </tr>\n",
       "    <tr>\n",
       "      <th>OTHERSCHANGE_FILE_CNT</th>\n",
       "      <td>2.750645e-02</td>\n",
       "      <td>0.072</td>\n",
       "    </tr>\n",
       "    <tr>\n",
       "      <th>BIOCHANGE_FILE_CNT</th>\n",
       "      <td>1.417992e-32</td>\n",
       "      <td>0.054</td>\n",
       "    </tr>\n",
       "    <tr>\n",
       "      <th>ASTROCHANGE_FILE_CNT</th>\n",
       "      <td>9.674179e-01</td>\n",
       "      <td>0.014</td>\n",
       "    </tr>\n",
       "    <tr>\n",
       "      <th>CHEMCHANGE_FILE_CNT</th>\n",
       "      <td>6.604764e-07</td>\n",
       "      <td>0.049</td>\n",
       "    </tr>\n",
       "  </tbody>\n",
       "</table>\n",
       "</div>"
      ],
      "text/plain": [
       "                             p-value  cliff_delta\n",
       "OTHERSADD_LOC           5.465625e-06        0.170\n",
       "BIOADD_LOC              7.194111e-82        0.092\n",
       "ASTROADD_LOC            2.475609e-16        0.070\n",
       "CHEMADD_LOC             2.033629e-26        0.115\n",
       "OTHERSPRIOR_AGE         9.981343e-01        0.112\n",
       "BIOPRIOR_AGE            9.807043e-01        0.010\n",
       "ASTROPRIOR_AGE          2.788020e-01        0.005\n",
       "CHEMPRIOR_AGE           9.673686e-01        0.020\n",
       "OTHERSDEL_LOC           1.473033e-03        0.115\n",
       "BIODEL_LOC              5.876286e-11        0.031\n",
       "ASTRODEL_LOC            4.196514e-05        0.034\n",
       "CHEMDEL_LOC             9.398208e-10        0.065\n",
       "OTHERSTOT_LOC           2.864211e-04        0.133\n",
       "BIOTOT_LOC              6.192718e-47        0.069\n",
       "ASTROTOT_LOC            5.722975e-09        0.049\n",
       "CHEMTOT_LOC             6.601311e-20        0.098\n",
       "OTHERSDEV_EXP           3.458631e-04        0.130\n",
       "BIODEV_EXP             2.494983e-152        0.127\n",
       "ASTRODEV_EXP            1.000000e+00        0.047\n",
       "CHEMDEV_EXP             1.000000e+00        0.066\n",
       "OTHERSDEV_RECENT        4.147456e-01        0.008\n",
       "BIODEV_RECENT          3.282895e-262        0.167\n",
       "ASTRODEV_RECENT         1.000000e+00        0.069\n",
       "CHEMDEV_RECENT          9.964186e-01        0.029\n",
       "OTHERSCHANGE_FILE_CNT   2.750645e-02        0.072\n",
       "BIOCHANGE_FILE_CNT      1.417992e-32        0.054\n",
       "ASTROCHANGE_FILE_CNT    9.674179e-01        0.014\n",
       "CHEMCHANGE_FILE_CNT     6.604764e-07        0.049"
      ]
     },
     "execution_count": 12,
     "metadata": {},
     "output_type": "execute_result"
    }
   ],
   "source": [
    "df"
   ]
  },
  {
   "cell_type": "code",
   "execution_count": 13,
   "metadata": {},
   "outputs": [],
   "source": [
    "df.to_csv('mwu.csv')"
   ]
  },
  {
   "cell_type": "markdown",
   "metadata": {},
   "source": [
    "***\n",
    "***\n",
    "# General Transfer Learning\n",
    "***\n",
    "***"
   ]
  },
  {
   "cell_type": "code",
   "execution_count": 14,
   "metadata": {},
   "outputs": [],
   "source": [
    "def produce_metrics(y_actual, y_predicted):\n",
    "    \n",
    "    rounded = list(np.around(np.array(precision_recall_fscore_support(y_actual, y_predicted,average = None)),2))\n",
    "    print(rounded)\n",
    "    return (rounded)"
   ]
  },
  {
   "cell_type": "code",
   "execution_count": 15,
   "metadata": {},
   "outputs": [],
   "source": [
    "def run_transfer_model(model, train_X, train_y, target_X, target_y):\n",
    "    \n",
    "    train_y = np.ravel(train_y)\n",
    "    target_y = np.ravel(target_y)\n",
    "    \n",
    "    model.fit(train_X, train_y)\n",
    "    y_predi = model.predict(target_X)\n",
    "    metrics = produce_metrics(target_y, y_predi)\n",
    "    print(confusion_matrix(target_y, y_predi))\n",
    "    return (metrics)"
   ]
  },
  {
   "cell_type": "code",
   "execution_count": 16,
   "metadata": {},
   "outputs": [
    {
     "name": "stdout",
     "output_type": "stream",
     "text": [
      "(174933, 1) (67344, 1) (52395, 1) (5384, 1)\n"
     ]
    }
   ],
   "source": [
    "Bio_Xy = df_comp_bio_full.to_numpy()\n",
    "Bio_X = Bio_Xy[:,0:7]\n",
    "Bio_y = Bio_Xy[:,7]\n",
    "\n",
    "Astro_Xy = df_astro_full.to_numpy()\n",
    "Astro_X = Astro_Xy[:,0:7]\n",
    "Astro_y = Astro_Xy[:,7]\n",
    "\n",
    "Chem_Xy = df_comp_chem_full.to_numpy()\n",
    "Chem_X = Chem_Xy[:,0:7]\n",
    "Chem_y = Chem_Xy[:,7]\n",
    "\n",
    "Others_Xy = df_others_full.to_numpy()\n",
    "Others_X = Others_Xy[:,0:7]\n",
    "Others_y = Others_Xy[:,7]\n",
    "\n",
    "\n",
    "#le = preprocessing.LabelEncoder()\n",
    "#\n",
    "#Bio_y = le.fit_transform(Bio_y)\n",
    "#Astro_y = le.fit_transform(Astro_y)\n",
    "\n",
    "Bio_y = label_binarize(np.ravel(Bio_y), classes=['NEUTRAL', 'INSECURE'])\n",
    "Astro_y = label_binarize(np.ravel(Astro_y), classes=['NEUTRAL', 'INSECURE'])\n",
    "Chem_y = label_binarize(np.ravel(Chem_y), classes=['NEUTRAL', 'INSECURE'])\n",
    "Others_y = label_binarize(np.ravel(Others_y), classes=['NEUTRAL', 'INSECURE'])\n",
    "\n",
    "print(Bio_y.shape, Astro_y.shape, Chem_y.shape, Others_y.shape)\n"
   ]
  },
  {
   "cell_type": "markdown",
   "metadata": {},
   "source": [
    "***\n",
    "***\n",
    "# SMOTE Application\n",
    "***\n",
    "***"
   ]
  },
  {
   "cell_type": "code",
   "execution_count": 17,
   "metadata": {},
   "outputs": [],
   "source": [
    "sm = SMOTE(random_state=42)\n",
    "Bio_X_res, Bio_y_res = sm.fit_resample(Bio_X, np.ravel(Bio_y))\n",
    "Astro_X_res, Astro_y_res = sm.fit_resample(Astro_X, np.ravel(Astro_y))\n",
    "Chem_X_res, Chem_y_res = sm.fit_resample(Chem_X, np.ravel(Chem_y))\n",
    "Others_X_res, Others_y_res = sm.fit_resample(Others_X, np.ravel(Others_y))"
   ]
  },
  {
   "cell_type": "code",
   "execution_count": null,
   "metadata": {},
   "outputs": [],
   "source": []
  },
  {
   "cell_type": "code",
   "execution_count": 18,
   "metadata": {},
   "outputs": [],
   "source": [
    "df_metrics = pd.DataFrame( columns=['Train_Set', 'Target_Set', 'Model_Type','Neutral_Precision','Insecure_Precision', 'Neutral_Recall', 'Insecure_Recall', \n",
    "                                              'Neutral_F', 'Insecure_F', 'Neutral_Support', 'Insecure_Support', 'Neutral_Precision_SMOTE','Insecure_Precision_SMOTE',\n",
    "                                              'Neutral_Recall_SMOTE', 'Insecure_Recall_SMOTE', 'Neutral_F_SMOTE', 'Insecure_F_SMOTE', 'Neutral_Support_SMOTE', 'Insecure_Support_SMOTE' ])\n",
    "\n",
    "df_metrics\n",
    "#put new entry into table\n",
    "def add_metrics_row(trainer, tester, clf_type, normals, smotes, df_):\n",
    "    new_row = [trainer, tester, clf_type]\n",
    "    for x in normals:\n",
    "        for y in x:\n",
    "            new_row.append(y)    \n",
    "    for x in smotes:\n",
    "        for y in x:\n",
    "            new_row.append(y)        \n",
    "    df_.loc[len(df_)] = new_row\n",
    "\n"
   ]
  },
  {
   "cell_type": "markdown",
   "metadata": {},
   "source": [
    "***\n",
    "***\n",
    "# Deep Learning With Keras\n",
    "### Using SMOTE due to poor results w/o artificial sampling\n",
    "##### This really feels like overfitting\n",
    "***\n",
    "***"
   ]
  },
  {
   "cell_type": "code",
   "execution_count": 19,
   "metadata": {},
   "outputs": [],
   "source": [
    "model = Sequential()\n",
    "model.add(Dense(15, input_dim=7, activation='relu'))\n",
    "#model.add(Conv1D(4, kernel_size=2, activation='relu'))\n",
    "#model.add(Dropout(0.50))\n",
    "#model.add(MaxPooling1D(pool_size=2))\n",
    "#model.add(Flatten())\n",
    "#model.add(Dense(75, activation='relu'))\n",
    "#model.add(Dropout(0.25))\n",
    "#model.add(Dense(15, activation='relu'))\n",
    "#model.add(Dropout(0.125))\n",
    "model.add(Dense(7, activation='relu'))\n",
    "model.add(Dense(1, activation='sigmoid'))\n",
    "\n",
    "model.compile(loss='binary_crossentropy', optimizer='adam', metrics=['accuracy'])"
   ]
  },
  {
   "cell_type": "code",
   "execution_count": 20,
   "metadata": {
    "scrolled": false
   },
   "outputs": [
    {
     "name": "stdout",
     "output_type": "stream",
     "text": [
      "12738/12738 [==============================] - 9s 646us/step - loss: 0.6383 - accuracy: 0.6235\n",
      "[array([0.93, 0.06]), array([0.93, 0.05]), array([0.93, 0.05]), array([62496.,  4848.])]\n",
      "[[58328  4168]\n",
      " [ 4602   246]]\n",
      "&&&&&&&&&&&&&&&&&&&&&&&&&&&&&&&&&&&&&&&&&&&&&&&&&&&&&&&&&&&&&&&&&&&&&&&&&&&&&&&&&&&&&&&&&\n",
      "&&&&&&&&&&&&&&&&&&&&&&&&&&&&&&&&&&&&&&&&&&&&&&&&&&&&&&&&&&&&&&&&&&&&&&&&&&&&&&&&&&&&&&&&&\n",
      "[array([0.94, 0.05]), array([0.97, 0.02]), array([0.96, 0.03]), array([49397.,  2998.])]\n",
      "[[48000  1397]\n",
      " [ 2932    66]]\n",
      "&&&&&&&&&&&&&&&&&&&&&&&&&&&&&&&&&&&&&&&&&&&&&&&&&&&&&&&&&&&&&&&&&&&&&&&&&&&&&&&&&&&&&&&&&\n",
      "&&&&&&&&&&&&&&&&&&&&&&&&&&&&&&&&&&&&&&&&&&&&&&&&&&&&&&&&&&&&&&&&&&&&&&&&&&&&&&&&&&&&&&&&&\n",
      "[array([0.96, 0.05]), array([0.99, 0.01]), array([0.97, 0.01]), array([5151.,  233.])]\n",
      "[[5109   42]\n",
      " [ 231    2]]\n"
     ]
    }
   ],
   "source": [
    "\n",
    "#######################\n",
    "#model.predict_classes is depricated since this code was initially written, so I replaced it\n",
    "#I couldn't send yall broken code~~~\n",
    "#\n",
    "#######################\n",
    "\n",
    "\n",
    "sc = StandardScaler()\n",
    "X = sc.fit_transform(Bio_X_res)\n",
    "\n",
    "#these casts were uselesss I think\n",
    "#X = np.asarray(X).astype('float32')\n",
    "#Y = np.asarray(Bio_y_res).astype('float32')\n",
    "                              \n",
    "model.fit(X, Bio_y_res, epochs=1, batch_size=25)\n",
    "\n",
    "\n",
    "#predictions = model.predict_classes(Astro_X)\n",
    "Astro_X = np.asarray(Astro_X).astype('float32')\n",
    "predictions = (model.predict(Astro_X) > 0.5).astype(\"float32\")\n",
    "\n",
    "produce_metrics(Astro_y, predictions)\n",
    "print(confusion_matrix(Astro_y, predictions))\n",
    "print(\"&&&&&&&&&&&&&&&&&&&&&&&&&&&&&&&&&&&&&&&&&&&&&&&&&&&&&&&&&&&&&&&&&&&&&&&&&&&&&&&&&&&&&&&&&\")\n",
    "print(\"&&&&&&&&&&&&&&&&&&&&&&&&&&&&&&&&&&&&&&&&&&&&&&&&&&&&&&&&&&&&&&&&&&&&&&&&&&&&&&&&&&&&&&&&&\")\n",
    "\n",
    "\n",
    "#predictions = model.predict_classes(Chem_X)\n",
    "Chem_X = np.asarray(Chem_X).astype('float32')\n",
    "predictions = (model.predict(Chem_X) > 0.5).astype(\"float32\")\n",
    "\n",
    "produce_metrics(Chem_y, predictions)\n",
    "print(confusion_matrix(Chem_y, predictions))\n",
    "print(\"&&&&&&&&&&&&&&&&&&&&&&&&&&&&&&&&&&&&&&&&&&&&&&&&&&&&&&&&&&&&&&&&&&&&&&&&&&&&&&&&&&&&&&&&&\")\n",
    "print(\"&&&&&&&&&&&&&&&&&&&&&&&&&&&&&&&&&&&&&&&&&&&&&&&&&&&&&&&&&&&&&&&&&&&&&&&&&&&&&&&&&&&&&&&&&\")\n",
    "\n",
    "\n",
    "#predictions = model.predict_classes(Others_X)\n",
    "Others_X = np.asarray(Others_X).astype('float32')\n",
    "predictions = (model.predict(Others_X) > 0.5).astype(\"float32\")\n",
    "\n",
    "produce_metrics(Others_y, predictions)\n",
    "print(confusion_matrix(Others_y, predictions))"
   ]
  },
  {
   "cell_type": "code",
   "execution_count": 21,
   "metadata": {},
   "outputs": [
    {
     "name": "stdout",
     "output_type": "stream",
     "text": [
      "5000/5000 [==============================] - 3s 646us/step - loss: 0.6859 - accuracy: 0.5436\n",
      "[array([0.91, 0.08]), array([0.63, 0.34]), array([0.74, 0.13]), array([159216.,  15717.])]\n",
      "[[99899 59317]\n",
      " [10373  5344]]\n",
      "&&&&&&&&&&&&&&&&&&&&&&&&&&&&&&&&&&&&&&&&&&&&&&&&&&&&&&&&&&&&&&&&&&&&&&&&&&&&&&&&&&&&&&&&&\n",
      "&&&&&&&&&&&&&&&&&&&&&&&&&&&&&&&&&&&&&&&&&&&&&&&&&&&&&&&&&&&&&&&&&&&&&&&&&&&&&&&&&&&&&&&&&\n",
      "[array([0.95, 0.06]), array([0.35, 0.67]), array([0.52, 0.11]), array([49397.,  2998.])]\n",
      "[[17486 31911]\n",
      " [ 1003  1995]]\n",
      "&&&&&&&&&&&&&&&&&&&&&&&&&&&&&&&&&&&&&&&&&&&&&&&&&&&&&&&&&&&&&&&&&&&&&&&&&&&&&&&&&&&&&&&&&\n",
      "&&&&&&&&&&&&&&&&&&&&&&&&&&&&&&&&&&&&&&&&&&&&&&&&&&&&&&&&&&&&&&&&&&&&&&&&&&&&&&&&&&&&&&&&&\n",
      "[array([0.95, 0.04]), array([0.28, 0.67]), array([0.43, 0.08]), array([5151.,  233.])]\n",
      "[[1438 3713]\n",
      " [  78  155]]\n"
     ]
    }
   ],
   "source": [
    "sc = StandardScaler()\n",
    "X = sc.fit_transform(Astro_X_res)\n",
    "#Y = np.asarray(Astro_y_res).astype('float32')\n",
    "\n",
    "model.fit(X, Astro_y_res, epochs=1, batch_size=25)\n",
    "\n",
    "#predictions = model.predict_classes(Bio_X)\n",
    "Bio_X = np.asarray(Bio_X).astype('float32')\n",
    "predictions = (model.predict(Bio_X) > 0.5).astype(\"float32\")\n",
    "\n",
    "produce_metrics(Bio_y, predictions)\n",
    "print(confusion_matrix(Bio_y, predictions))\n",
    "print(\"&&&&&&&&&&&&&&&&&&&&&&&&&&&&&&&&&&&&&&&&&&&&&&&&&&&&&&&&&&&&&&&&&&&&&&&&&&&&&&&&&&&&&&&&&\")\n",
    "print(\"&&&&&&&&&&&&&&&&&&&&&&&&&&&&&&&&&&&&&&&&&&&&&&&&&&&&&&&&&&&&&&&&&&&&&&&&&&&&&&&&&&&&&&&&&\")\n",
    "\n",
    "#predictions = model.predict_classes(Chem_X)\n",
    "Chem_X = np.asarray(Chem_X).astype('float32')\n",
    "predictions = (model.predict(Chem_X) > 0.5).astype(\"float32\")\n",
    "\n",
    "produce_metrics(Chem_y, predictions)\n",
    "print(confusion_matrix(Chem_y, predictions))\n",
    "print(\"&&&&&&&&&&&&&&&&&&&&&&&&&&&&&&&&&&&&&&&&&&&&&&&&&&&&&&&&&&&&&&&&&&&&&&&&&&&&&&&&&&&&&&&&&\")\n",
    "print(\"&&&&&&&&&&&&&&&&&&&&&&&&&&&&&&&&&&&&&&&&&&&&&&&&&&&&&&&&&&&&&&&&&&&&&&&&&&&&&&&&&&&&&&&&&\")\n",
    "\n",
    "#predictions = model.predict_classes(Others_X)\n",
    "Others_X = np.asarray(Others_X).astype('float32')\n",
    "predictions = (model.predict(Others_X) > 0.5).astype(\"float32\")\n",
    "\n",
    "produce_metrics(Others_y, predictions)\n",
    "print(confusion_matrix(Others_y, predictions))"
   ]
  },
  {
   "cell_type": "code",
   "execution_count": 22,
   "metadata": {},
   "outputs": [
    {
     "name": "stdout",
     "output_type": "stream",
     "text": [
      "9880/9880 [==============================] - 6s 655us/step - loss: 0.6667 - accuracy: 0.5837\n",
      "[array([0.91, 0.05]), array([1., 0.]), array([0.95, 0.  ]), array([159216.,  15717.])]\n",
      "[[159004    212]\n",
      " [ 15705     12]]\n",
      "&&&&&&&&&&&&&&&&&&&&&&&&&&&&&&&&&&&&&&&&&&&&&&&&&&&&&&&&&&&&&&&&&&&&&&&&&&&&&&&&&&&&&&&&&\n",
      "&&&&&&&&&&&&&&&&&&&&&&&&&&&&&&&&&&&&&&&&&&&&&&&&&&&&&&&&&&&&&&&&&&&&&&&&&&&&&&&&&&&&&&&&&\n",
      "[array([0.93, 0.02]), array([1., 0.]), array([0.96, 0.  ]), array([62496.,  4848.])]\n",
      "[[62447    49]\n",
      " [ 4847     1]]\n",
      "&&&&&&&&&&&&&&&&&&&&&&&&&&&&&&&&&&&&&&&&&&&&&&&&&&&&&&&&&&&&&&&&&&&&&&&&&&&&&&&&&&&&&&&&&\n",
      "&&&&&&&&&&&&&&&&&&&&&&&&&&&&&&&&&&&&&&&&&&&&&&&&&&&&&&&&&&&&&&&&&&&&&&&&&&&&&&&&&&&&&&&&&\n",
      "[array([0.96, 0.  ]), array([1., 0.]), array([0.98, 0.  ]), array([5151.,  233.])]\n",
      "[[5146    5]\n",
      " [ 233    0]]\n"
     ]
    }
   ],
   "source": [
    "sc = StandardScaler()\n",
    "X = sc.fit_transform(Chem_X_res)\n",
    "#Y = np.asarray(Chem_y_res).astype('float32')\n",
    "\n",
    "model.fit(X, Chem_y_res, epochs=1, batch_size=10)\n",
    "\n",
    "#predictions = model.predict_classes(Bio_X)\n",
    "Bio_X = np.asarray(Bio_X).astype('float32')\n",
    "predictions = (model.predict(Bio_X) > 0.5).astype(\"float32\")\n",
    "\n",
    "produce_metrics(Bio_y, predictions)\n",
    "print(confusion_matrix(Bio_y, predictions))\n",
    "print(\"&&&&&&&&&&&&&&&&&&&&&&&&&&&&&&&&&&&&&&&&&&&&&&&&&&&&&&&&&&&&&&&&&&&&&&&&&&&&&&&&&&&&&&&&&\")\n",
    "print(\"&&&&&&&&&&&&&&&&&&&&&&&&&&&&&&&&&&&&&&&&&&&&&&&&&&&&&&&&&&&&&&&&&&&&&&&&&&&&&&&&&&&&&&&&&\")\n",
    "\n",
    "#predictions = model.predict_classes(Astro_X)\n",
    "Astro_X = np.asarray(Astro_X).astype('float32')\n",
    "predictions = (model.predict(Astro_X) > 0.5).astype(\"float32\")\n",
    "\n",
    "produce_metrics(Astro_y, predictions)\n",
    "print(confusion_matrix(Astro_y, predictions))\n",
    "print(\"&&&&&&&&&&&&&&&&&&&&&&&&&&&&&&&&&&&&&&&&&&&&&&&&&&&&&&&&&&&&&&&&&&&&&&&&&&&&&&&&&&&&&&&&&\")\n",
    "print(\"&&&&&&&&&&&&&&&&&&&&&&&&&&&&&&&&&&&&&&&&&&&&&&&&&&&&&&&&&&&&&&&&&&&&&&&&&&&&&&&&&&&&&&&&&\")\n",
    "\n",
    "#predictions = model.predict_classes(Others_X)\n",
    "Others_X = np.asarray(Others_X).astype('float32')\n",
    "predictions = (model.predict(Others_X) > 0.5).astype(\"float32\")\n",
    "\n",
    "produce_metrics(Others_y, predictions)\n",
    "print(confusion_matrix(Others_y, predictions))"
   ]
  },
  {
   "cell_type": "code",
   "execution_count": null,
   "metadata": {},
   "outputs": [],
   "source": []
  },
  {
   "cell_type": "markdown",
   "metadata": {},
   "source": [
    "***\n",
    "### Bio -> Astro \n",
    "***"
   ]
  },
  {
   "cell_type": "code",
   "execution_count": 23,
   "metadata": {},
   "outputs": [],
   "source": [
    "df_metrics = pd.DataFrame( columns=['Train_Set', 'Target_Set', 'Model_Type','Neutral_Precision','Insecure_Precision', 'Neutral_Recall', 'Insecure_Recall', \n",
    "                                              'Neutral_F', 'Insecure_F', 'Neutral_Support', 'Insecure_Support', 'Neutral_Precision_SMOTE','Insecure_Precision_SMOTE',\n",
    "                                              'Neutral_Recall_SMOTE', 'Insecure_Recall_SMOTE', 'Neutral_F_SMOTE', 'Insecure_F_SMOTE', 'Neutral_Support_SMOTE', 'Insecure_Support_SMOTE' ])\n",
    "\n",
    "df_metrics\n",
    "\n",
    "#puts new entry into table\n",
    "def add_metrics_row(trainer, tester, clf_type, normals, smotes, df_):\n",
    "    new_row = [trainer, tester, clf_type]\n",
    "    for x in normals:\n",
    "        for y in x:\n",
    "            new_row.append(y)    \n",
    "    for x in smotes:\n",
    "        for y in x:\n",
    "            new_row.append(y)        \n",
    "    df_.loc[len(df_)] = new_row\n",
    "\n",
    "\n",
    "    "
   ]
  },
  {
   "cell_type": "code",
   "execution_count": 24,
   "metadata": {},
   "outputs": [
    {
     "name": "stdout",
     "output_type": "stream",
     "text": [
      "[array([0.93, 0.07]), array([0.9 , 0.09]), array([0.91, 0.08]), array([62496.,  4848.])]\n",
      "[[56334  6162]\n",
      " [ 4394   454]]\n",
      "~~~~~~~~~~~~~~~~~~~~~~~~~~~~~~~~~~~~~~~~~~~~~~~~~~~~~~~\n",
      "~~~~~~~~~~~~~~~~~~~~~~~~~~~~~~~~~~~~~~~~~~~~~~~~~~~~~~~\n",
      "[array([0.93, 0.07]), array([0.81, 0.18]), array([0.86, 0.1 ]), array([62496.,  4848.])]\n",
      "[[50509 11987]\n",
      " [ 3987   861]]\n"
     ]
    }
   ],
   "source": [
    "clf = DecisionTreeClassifier(random_state=37)\n",
    "\n",
    "normal_metrics = run_transfer_model(clf, Bio_X, Bio_y, Astro_X, Astro_y)\n",
    "print(\"~~~~~~~~~~~~~~~~~~~~~~~~~~~~~~~~~~~~~~~~~~~~~~~~~~~~~~~\")\n",
    "print(\"~~~~~~~~~~~~~~~~~~~~~~~~~~~~~~~~~~~~~~~~~~~~~~~~~~~~~~~\")\n",
    "smote_metrics = run_transfer_model(clf, Bio_X_res, Bio_y_res, Astro_X, Astro_y)\n",
    "\n",
    "\n",
    "add_metrics_row(\"bio\", \"astro\", type(clf), normal_metrics, smote_metrics, df_metrics)"
   ]
  },
  {
   "cell_type": "code",
   "execution_count": 25,
   "metadata": {},
   "outputs": [
    {
     "name": "stdout",
     "output_type": "stream",
     "text": [
      "[array([0.93, 0.07]), array([0.99, 0.01]), array([0.96, 0.02]), array([62496.,  4848.])]\n",
      "[[61913   583]\n",
      " [ 4802    46]]\n",
      "~~~~~~~~~~~~~~~~~~~~~~~~~~~~~~~~~~~~~~~~~~~~~~~~~~~~~~~\n",
      "~~~~~~~~~~~~~~~~~~~~~~~~~~~~~~~~~~~~~~~~~~~~~~~~~~~~~~~\n",
      "[array([0.93, 0.07]), array([0.76, 0.25]), array([0.83, 0.11]), array([62496.,  4848.])]\n",
      "[[47387 15109]\n",
      " [ 3637  1211]]\n"
     ]
    }
   ],
   "source": [
    "clf = KNeighborsClassifier(n_neighbors = 547)\n",
    "\n",
    "normal_metrics = run_transfer_model(clf, Bio_X, Bio_y, Astro_X, Astro_y)\n",
    "print(\"~~~~~~~~~~~~~~~~~~~~~~~~~~~~~~~~~~~~~~~~~~~~~~~~~~~~~~~\")\n",
    "print(\"~~~~~~~~~~~~~~~~~~~~~~~~~~~~~~~~~~~~~~~~~~~~~~~~~~~~~~~\")\n",
    "smote_metrics = run_transfer_model(clf, Bio_X_res, Bio_y_res, Astro_X, Astro_y)\n",
    "\n",
    "add_metrics_row(\"bio\", \"astro\", type(clf), normal_metrics, smote_metrics, df_metrics)"
   ]
  },
  {
   "cell_type": "code",
   "execution_count": 26,
   "metadata": {},
   "outputs": [
    {
     "name": "stdout",
     "output_type": "stream",
     "text": [
      "[array([0.93, 0.  ]), array([1., 0.]), array([0.96, 0.  ]), array([62496.,  4848.])]\n",
      "[[62496     0]\n",
      " [ 4848     0]]\n",
      "~~~~~~~~~~~~~~~~~~~~~~~~~~~~~~~~~~~~~~~~~~~~~~~~~~~~~~~\n",
      "~~~~~~~~~~~~~~~~~~~~~~~~~~~~~~~~~~~~~~~~~~~~~~~~~~~~~~~\n",
      "[array([0.95, 0.08]), array([0.18, 0.87]), array([0.3 , 0.14]), array([62496.,  4848.])]\n",
      "[[11124 51372]\n",
      " [  612  4236]]\n"
     ]
    },
    {
     "name": "stderr",
     "output_type": "stream",
     "text": [
      "/home/adam/.local/lib/python3.7/site-packages/sklearn/metrics/_classification.py:1245: UndefinedMetricWarning: Precision and F-score are ill-defined and being set to 0.0 in labels with no predicted samples. Use `zero_division` parameter to control this behavior.\n",
      "  _warn_prf(average, modifier, msg_start, len(result))\n"
     ]
    }
   ],
   "source": [
    "clf = BernoulliNB()\n",
    "\n",
    "normal_metrics = run_transfer_model(clf, Bio_X, Bio_y, Astro_X, Astro_y)\n",
    "print(\"~~~~~~~~~~~~~~~~~~~~~~~~~~~~~~~~~~~~~~~~~~~~~~~~~~~~~~~\")\n",
    "print(\"~~~~~~~~~~~~~~~~~~~~~~~~~~~~~~~~~~~~~~~~~~~~~~~~~~~~~~~\")\n",
    "smote_metrics = run_transfer_model(clf, Bio_X_res, Bio_y_res, Astro_X, Astro_y)  \n",
    "\n",
    "add_metrics_row(\"bio\", \"astro\", type(clf), normal_metrics, smote_metrics, df_metrics)"
   ]
  },
  {
   "cell_type": "code",
   "execution_count": 27,
   "metadata": {},
   "outputs": [
    {
     "name": "stderr",
     "output_type": "stream",
     "text": [
      "/home/adam/.local/lib/python3.7/site-packages/sklearn/neural_network/_multilayer_perceptron.py:500: ConvergenceWarning: lbfgs failed to converge (status=2):\n",
      "ABNORMAL_TERMINATION_IN_LNSRCH.\n",
      "\n",
      "Increase the number of iterations (max_iter) or scale the data as shown in:\n",
      "    https://scikit-learn.org/stable/modules/preprocessing.html\n",
      "  self.n_iter_ = _check_optimize_result(\"lbfgs\", opt_res, self.max_iter)\n",
      "/home/adam/.local/lib/python3.7/site-packages/sklearn/metrics/_classification.py:1245: UndefinedMetricWarning: Precision and F-score are ill-defined and being set to 0.0 in labels with no predicted samples. Use `zero_division` parameter to control this behavior.\n",
      "  _warn_prf(average, modifier, msg_start, len(result))\n"
     ]
    },
    {
     "name": "stdout",
     "output_type": "stream",
     "text": [
      "[array([0.93, 0.  ]), array([1., 0.]), array([0.96, 0.  ]), array([62496.,  4848.])]\n",
      "[[62496     0]\n",
      " [ 4848     0]]\n",
      "~~~~~~~~~~~~~~~~~~~~~~~~~~~~~~~~~~~~~~~~~~~~~~~~~~~~~~~\n",
      "~~~~~~~~~~~~~~~~~~~~~~~~~~~~~~~~~~~~~~~~~~~~~~~~~~~~~~~\n",
      "[array([0.93, 0.07]), array([0.66, 0.33]), array([0.77, 0.12]), array([62496.,  4848.])]\n",
      "[[41303 21193]\n",
      " [ 3259  1589]]\n"
     ]
    }
   ],
   "source": [
    "clf = MLPClassifier(solver='lbfgs', alpha=1e-5, random_state=1)\n",
    "\n",
    "normal_metrics = run_transfer_model(clf, Bio_X, Bio_y, Astro_X, Astro_y)\n",
    "print(\"~~~~~~~~~~~~~~~~~~~~~~~~~~~~~~~~~~~~~~~~~~~~~~~~~~~~~~~\")\n",
    "print(\"~~~~~~~~~~~~~~~~~~~~~~~~~~~~~~~~~~~~~~~~~~~~~~~~~~~~~~~\")\n",
    "smote_metrics = run_transfer_model(clf, Bio_X_res, Bio_y_res, Astro_X, Astro_y)\n",
    "\n",
    "add_metrics_row(\"bio\", \"astro\", type(clf), normal_metrics, smote_metrics, df_metrics)"
   ]
  },
  {
   "cell_type": "code",
   "execution_count": 28,
   "metadata": {},
   "outputs": [
    {
     "name": "stderr",
     "output_type": "stream",
     "text": [
      "/home/adam/.local/lib/python3.7/site-packages/sklearn/metrics/_classification.py:1245: UndefinedMetricWarning: Precision and F-score are ill-defined and being set to 0.0 in labels with no predicted samples. Use `zero_division` parameter to control this behavior.\n",
      "  _warn_prf(average, modifier, msg_start, len(result))\n"
     ]
    },
    {
     "name": "stdout",
     "output_type": "stream",
     "text": [
      "[array([0.93, 0.  ]), array([1., 0.]), array([0.96, 0.  ]), array([62496.,  4848.])]\n",
      "[[62496     0]\n",
      " [ 4848     0]]\n",
      "~~~~~~~~~~~~~~~~~~~~~~~~~~~~~~~~~~~~~~~~~~~~~~~~~~~~~~~\n",
      "~~~~~~~~~~~~~~~~~~~~~~~~~~~~~~~~~~~~~~~~~~~~~~~~~~~~~~~\n",
      "[array([0.93, 0.07]), array([0.58, 0.41]), array([0.71, 0.12]), array([62496.,  4848.])]\n",
      "[[36181 26315]\n",
      " [ 2882  1966]]\n"
     ]
    }
   ],
   "source": [
    "clf = RandomForestClassifier(n_estimators=100, max_depth=2, random_state=0)\n",
    "\n",
    "normal_metrics = run_transfer_model(clf, Bio_X, Bio_y, Astro_X, Astro_y)\n",
    "print(\"~~~~~~~~~~~~~~~~~~~~~~~~~~~~~~~~~~~~~~~~~~~~~~~~~~~~~~~\")\n",
    "print(\"~~~~~~~~~~~~~~~~~~~~~~~~~~~~~~~~~~~~~~~~~~~~~~~~~~~~~~~\")\n",
    "smote_metrics = run_transfer_model(clf, Bio_X_res, Bio_y_res, Astro_X, Astro_y)\n",
    "\n",
    "add_metrics_row(\"bio\", \"astro\", type(clf), normal_metrics, smote_metrics, df_metrics)"
   ]
  },
  {
   "cell_type": "markdown",
   "metadata": {},
   "source": [
    "***\n",
    "### Bio -> Chem\n",
    "***"
   ]
  },
  {
   "cell_type": "code",
   "execution_count": 29,
   "metadata": {},
   "outputs": [
    {
     "name": "stdout",
     "output_type": "stream",
     "text": [
      "[array([0.94, 0.06]), array([0.84, 0.16]), array([0.89, 0.09]), array([49397.,  2998.])]\n",
      "[[41421  7976]\n",
      " [ 2506   492]]\n",
      "~~~~~~~~~~~~~~~~~~~~~~~~~~~~~~~~~~~~~~~~~~~~~~~~~~~~~~~\n",
      "~~~~~~~~~~~~~~~~~~~~~~~~~~~~~~~~~~~~~~~~~~~~~~~~~~~~~~~\n",
      "[array([0.94, 0.07]), array([0.85, 0.18]), array([0.89, 0.1 ]), array([49397.,  2998.])]\n",
      "[[41905  7492]\n",
      " [ 2451   547]]\n"
     ]
    },
    {
     "data": {
      "text/html": [
       "<div>\n",
       "<style scoped>\n",
       "    .dataframe tbody tr th:only-of-type {\n",
       "        vertical-align: middle;\n",
       "    }\n",
       "\n",
       "    .dataframe tbody tr th {\n",
       "        vertical-align: top;\n",
       "    }\n",
       "\n",
       "    .dataframe thead th {\n",
       "        text-align: right;\n",
       "    }\n",
       "</style>\n",
       "<table border=\"1\" class=\"dataframe\">\n",
       "  <thead>\n",
       "    <tr style=\"text-align: right;\">\n",
       "      <th></th>\n",
       "      <th>Train_Set</th>\n",
       "      <th>Target_Set</th>\n",
       "      <th>Model_Type</th>\n",
       "      <th>Neutral_Precision</th>\n",
       "      <th>Insecure_Precision</th>\n",
       "      <th>Neutral_Recall</th>\n",
       "      <th>Insecure_Recall</th>\n",
       "      <th>Neutral_F</th>\n",
       "      <th>Insecure_F</th>\n",
       "      <th>Neutral_Support</th>\n",
       "      <th>Insecure_Support</th>\n",
       "      <th>Neutral_Precision_SMOTE</th>\n",
       "      <th>Insecure_Precision_SMOTE</th>\n",
       "      <th>Neutral_Recall_SMOTE</th>\n",
       "      <th>Insecure_Recall_SMOTE</th>\n",
       "      <th>Neutral_F_SMOTE</th>\n",
       "      <th>Insecure_F_SMOTE</th>\n",
       "      <th>Neutral_Support_SMOTE</th>\n",
       "      <th>Insecure_Support_SMOTE</th>\n",
       "    </tr>\n",
       "  </thead>\n",
       "  <tbody>\n",
       "    <tr>\n",
       "      <th>0</th>\n",
       "      <td>bio</td>\n",
       "      <td>astro</td>\n",
       "      <td>&lt;class 'sklearn.tree._classes.DecisionTreeClas...</td>\n",
       "      <td>0.93</td>\n",
       "      <td>0.07</td>\n",
       "      <td>0.90</td>\n",
       "      <td>0.09</td>\n",
       "      <td>0.91</td>\n",
       "      <td>0.08</td>\n",
       "      <td>62496.0</td>\n",
       "      <td>4848.0</td>\n",
       "      <td>0.93</td>\n",
       "      <td>0.07</td>\n",
       "      <td>0.81</td>\n",
       "      <td>0.18</td>\n",
       "      <td>0.86</td>\n",
       "      <td>0.10</td>\n",
       "      <td>62496.0</td>\n",
       "      <td>4848.0</td>\n",
       "    </tr>\n",
       "    <tr>\n",
       "      <th>1</th>\n",
       "      <td>bio</td>\n",
       "      <td>astro</td>\n",
       "      <td>&lt;class 'sklearn.neighbors._classification.KNei...</td>\n",
       "      <td>0.93</td>\n",
       "      <td>0.07</td>\n",
       "      <td>0.99</td>\n",
       "      <td>0.01</td>\n",
       "      <td>0.96</td>\n",
       "      <td>0.02</td>\n",
       "      <td>62496.0</td>\n",
       "      <td>4848.0</td>\n",
       "      <td>0.93</td>\n",
       "      <td>0.07</td>\n",
       "      <td>0.76</td>\n",
       "      <td>0.25</td>\n",
       "      <td>0.83</td>\n",
       "      <td>0.11</td>\n",
       "      <td>62496.0</td>\n",
       "      <td>4848.0</td>\n",
       "    </tr>\n",
       "    <tr>\n",
       "      <th>2</th>\n",
       "      <td>bio</td>\n",
       "      <td>astro</td>\n",
       "      <td>&lt;class 'sklearn.naive_bayes.BernoulliNB'&gt;</td>\n",
       "      <td>0.93</td>\n",
       "      <td>0.00</td>\n",
       "      <td>1.00</td>\n",
       "      <td>0.00</td>\n",
       "      <td>0.96</td>\n",
       "      <td>0.00</td>\n",
       "      <td>62496.0</td>\n",
       "      <td>4848.0</td>\n",
       "      <td>0.95</td>\n",
       "      <td>0.08</td>\n",
       "      <td>0.18</td>\n",
       "      <td>0.87</td>\n",
       "      <td>0.30</td>\n",
       "      <td>0.14</td>\n",
       "      <td>62496.0</td>\n",
       "      <td>4848.0</td>\n",
       "    </tr>\n",
       "    <tr>\n",
       "      <th>3</th>\n",
       "      <td>bio</td>\n",
       "      <td>astro</td>\n",
       "      <td>&lt;class 'sklearn.neural_network._multilayer_per...</td>\n",
       "      <td>0.93</td>\n",
       "      <td>0.00</td>\n",
       "      <td>1.00</td>\n",
       "      <td>0.00</td>\n",
       "      <td>0.96</td>\n",
       "      <td>0.00</td>\n",
       "      <td>62496.0</td>\n",
       "      <td>4848.0</td>\n",
       "      <td>0.93</td>\n",
       "      <td>0.07</td>\n",
       "      <td>0.66</td>\n",
       "      <td>0.33</td>\n",
       "      <td>0.77</td>\n",
       "      <td>0.12</td>\n",
       "      <td>62496.0</td>\n",
       "      <td>4848.0</td>\n",
       "    </tr>\n",
       "    <tr>\n",
       "      <th>4</th>\n",
       "      <td>bio</td>\n",
       "      <td>astro</td>\n",
       "      <td>&lt;class 'sklearn.ensemble._forest.RandomForestC...</td>\n",
       "      <td>0.93</td>\n",
       "      <td>0.00</td>\n",
       "      <td>1.00</td>\n",
       "      <td>0.00</td>\n",
       "      <td>0.96</td>\n",
       "      <td>0.00</td>\n",
       "      <td>62496.0</td>\n",
       "      <td>4848.0</td>\n",
       "      <td>0.93</td>\n",
       "      <td>0.07</td>\n",
       "      <td>0.58</td>\n",
       "      <td>0.41</td>\n",
       "      <td>0.71</td>\n",
       "      <td>0.12</td>\n",
       "      <td>62496.0</td>\n",
       "      <td>4848.0</td>\n",
       "    </tr>\n",
       "    <tr>\n",
       "      <th>5</th>\n",
       "      <td>bio</td>\n",
       "      <td>chem</td>\n",
       "      <td>&lt;class 'sklearn.tree._classes.DecisionTreeClas...</td>\n",
       "      <td>0.94</td>\n",
       "      <td>0.06</td>\n",
       "      <td>0.84</td>\n",
       "      <td>0.16</td>\n",
       "      <td>0.89</td>\n",
       "      <td>0.09</td>\n",
       "      <td>49397.0</td>\n",
       "      <td>2998.0</td>\n",
       "      <td>0.94</td>\n",
       "      <td>0.07</td>\n",
       "      <td>0.85</td>\n",
       "      <td>0.18</td>\n",
       "      <td>0.89</td>\n",
       "      <td>0.10</td>\n",
       "      <td>49397.0</td>\n",
       "      <td>2998.0</td>\n",
       "    </tr>\n",
       "  </tbody>\n",
       "</table>\n",
       "</div>"
      ],
      "text/plain": [
       "  Train_Set Target_Set                                         Model_Type  \\\n",
       "0       bio      astro  <class 'sklearn.tree._classes.DecisionTreeClas...   \n",
       "1       bio      astro  <class 'sklearn.neighbors._classification.KNei...   \n",
       "2       bio      astro          <class 'sklearn.naive_bayes.BernoulliNB'>   \n",
       "3       bio      astro  <class 'sklearn.neural_network._multilayer_per...   \n",
       "4       bio      astro  <class 'sklearn.ensemble._forest.RandomForestC...   \n",
       "5       bio       chem  <class 'sklearn.tree._classes.DecisionTreeClas...   \n",
       "\n",
       "   Neutral_Precision  Insecure_Precision  Neutral_Recall  Insecure_Recall  \\\n",
       "0               0.93                0.07            0.90             0.09   \n",
       "1               0.93                0.07            0.99             0.01   \n",
       "2               0.93                0.00            1.00             0.00   \n",
       "3               0.93                0.00            1.00             0.00   \n",
       "4               0.93                0.00            1.00             0.00   \n",
       "5               0.94                0.06            0.84             0.16   \n",
       "\n",
       "   Neutral_F  Insecure_F  Neutral_Support  Insecure_Support  \\\n",
       "0       0.91        0.08          62496.0            4848.0   \n",
       "1       0.96        0.02          62496.0            4848.0   \n",
       "2       0.96        0.00          62496.0            4848.0   \n",
       "3       0.96        0.00          62496.0            4848.0   \n",
       "4       0.96        0.00          62496.0            4848.0   \n",
       "5       0.89        0.09          49397.0            2998.0   \n",
       "\n",
       "   Neutral_Precision_SMOTE  Insecure_Precision_SMOTE  Neutral_Recall_SMOTE  \\\n",
       "0                     0.93                      0.07                  0.81   \n",
       "1                     0.93                      0.07                  0.76   \n",
       "2                     0.95                      0.08                  0.18   \n",
       "3                     0.93                      0.07                  0.66   \n",
       "4                     0.93                      0.07                  0.58   \n",
       "5                     0.94                      0.07                  0.85   \n",
       "\n",
       "   Insecure_Recall_SMOTE  Neutral_F_SMOTE  Insecure_F_SMOTE  \\\n",
       "0                   0.18             0.86              0.10   \n",
       "1                   0.25             0.83              0.11   \n",
       "2                   0.87             0.30              0.14   \n",
       "3                   0.33             0.77              0.12   \n",
       "4                   0.41             0.71              0.12   \n",
       "5                   0.18             0.89              0.10   \n",
       "\n",
       "   Neutral_Support_SMOTE  Insecure_Support_SMOTE  \n",
       "0                62496.0                  4848.0  \n",
       "1                62496.0                  4848.0  \n",
       "2                62496.0                  4848.0  \n",
       "3                62496.0                  4848.0  \n",
       "4                62496.0                  4848.0  \n",
       "5                49397.0                  2998.0  "
      ]
     },
     "execution_count": 29,
     "metadata": {},
     "output_type": "execute_result"
    }
   ],
   "source": [
    "clf = DecisionTreeClassifier(random_state=37)\n",
    "\n",
    "normal_metrics = run_transfer_model(clf, Bio_X, Bio_y, Chem_X, Chem_y)\n",
    "print(\"~~~~~~~~~~~~~~~~~~~~~~~~~~~~~~~~~~~~~~~~~~~~~~~~~~~~~~~\")\n",
    "print(\"~~~~~~~~~~~~~~~~~~~~~~~~~~~~~~~~~~~~~~~~~~~~~~~~~~~~~~~\")\n",
    "smote_metrics = run_transfer_model(clf, Bio_X_res, Bio_y_res, Chem_X, Chem_y)\n",
    "\n",
    "add_metrics_row(\"bio\", \"chem\", type(clf), normal_metrics, smote_metrics, df_metrics)\n",
    "\n",
    "df_metrics"
   ]
  },
  {
   "cell_type": "code",
   "execution_count": 30,
   "metadata": {},
   "outputs": [
    {
     "name": "stderr",
     "output_type": "stream",
     "text": [
      "/home/adam/.local/lib/python3.7/site-packages/sklearn/metrics/_classification.py:1245: UndefinedMetricWarning: Precision and F-score are ill-defined and being set to 0.0 in labels with no predicted samples. Use `zero_division` parameter to control this behavior.\n",
      "  _warn_prf(average, modifier, msg_start, len(result))\n"
     ]
    },
    {
     "name": "stdout",
     "output_type": "stream",
     "text": [
      "[array([0.94, 0.  ]), array([1., 0.]), array([0.97, 0.  ]), array([49397.,  2998.])]\n",
      "[[49397     0]\n",
      " [ 2998     0]]\n",
      "~~~~~~~~~~~~~~~~~~~~~~~~~~~~~~~~~~~~~~~~~~~~~~~~~~~~~~~\n",
      "~~~~~~~~~~~~~~~~~~~~~~~~~~~~~~~~~~~~~~~~~~~~~~~~~~~~~~~\n",
      "[array([0.94, 0.06]), array([0.84, 0.17]), array([0.89, 0.09]), array([49397.,  2998.])]\n",
      "[[41294  8103]\n",
      " [ 2486   512]]\n"
     ]
    }
   ],
   "source": [
    "clf = KNeighborsClassifier(n_neighbors = 547)\n",
    "\n",
    "normal_metrics = run_transfer_model(clf, Bio_X, Bio_y, Chem_X, Chem_y)\n",
    "print(\"~~~~~~~~~~~~~~~~~~~~~~~~~~~~~~~~~~~~~~~~~~~~~~~~~~~~~~~\")\n",
    "print(\"~~~~~~~~~~~~~~~~~~~~~~~~~~~~~~~~~~~~~~~~~~~~~~~~~~~~~~~\")\n",
    "smote_metrics = run_transfer_model(clf, Bio_X_res, Bio_y_res, Chem_X, Chem_y)\n",
    "\n",
    "add_metrics_row(\"bio\", \"chem\", type(clf), normal_metrics, smote_metrics, df_metrics)"
   ]
  },
  {
   "cell_type": "code",
   "execution_count": 31,
   "metadata": {},
   "outputs": [
    {
     "name": "stderr",
     "output_type": "stream",
     "text": [
      "/home/adam/.local/lib/python3.7/site-packages/sklearn/neural_network/_multilayer_perceptron.py:500: ConvergenceWarning: lbfgs failed to converge (status=2):\n",
      "ABNORMAL_TERMINATION_IN_LNSRCH.\n",
      "\n",
      "Increase the number of iterations (max_iter) or scale the data as shown in:\n",
      "    https://scikit-learn.org/stable/modules/preprocessing.html\n",
      "  self.n_iter_ = _check_optimize_result(\"lbfgs\", opt_res, self.max_iter)\n",
      "/home/adam/.local/lib/python3.7/site-packages/sklearn/metrics/_classification.py:1245: UndefinedMetricWarning: Precision and F-score are ill-defined and being set to 0.0 in labels with no predicted samples. Use `zero_division` parameter to control this behavior.\n",
      "  _warn_prf(average, modifier, msg_start, len(result))\n"
     ]
    },
    {
     "name": "stdout",
     "output_type": "stream",
     "text": [
      "[array([0.94, 0.  ]), array([1., 0.]), array([0.97, 0.  ]), array([49397.,  2998.])]\n",
      "[[49397     0]\n",
      " [ 2998     0]]\n",
      "~~~~~~~~~~~~~~~~~~~~~~~~~~~~~~~~~~~~~~~~~~~~~~~~~~~~~~~\n",
      "~~~~~~~~~~~~~~~~~~~~~~~~~~~~~~~~~~~~~~~~~~~~~~~~~~~~~~~\n",
      "[array([0.94, 0.04]), array([0.69, 0.23]), array([0.79, 0.07]), array([49397.,  2998.])]\n",
      "[[34081 15316]\n",
      " [ 2314   684]]\n"
     ]
    }
   ],
   "source": [
    "clf = MLPClassifier(solver='lbfgs', alpha=1e-5, random_state=1, max_iter = 1000)\n",
    "\n",
    "normal_metrics = run_transfer_model(clf, Bio_X, Bio_y, Chem_X, Chem_y)\n",
    "print(\"~~~~~~~~~~~~~~~~~~~~~~~~~~~~~~~~~~~~~~~~~~~~~~~~~~~~~~~\")\n",
    "print(\"~~~~~~~~~~~~~~~~~~~~~~~~~~~~~~~~~~~~~~~~~~~~~~~~~~~~~~~\")\n",
    "smote_metrics = run_transfer_model(clf, Bio_X_res, Bio_y_res, Chem_X, Chem_y)\n",
    "\n",
    "add_metrics_row(\"bio\", \"chem\", type(clf), normal_metrics, smote_metrics, df_metrics)"
   ]
  },
  {
   "cell_type": "code",
   "execution_count": 32,
   "metadata": {},
   "outputs": [
    {
     "name": "stdout",
     "output_type": "stream",
     "text": [
      "[array([0.94, 0.  ]), array([1., 0.]), array([0.97, 0.  ]), array([49397.,  2998.])]\n",
      "[[49397     0]\n",
      " [ 2998     0]]\n",
      "~~~~~~~~~~~~~~~~~~~~~~~~~~~~~~~~~~~~~~~~~~~~~~~~~~~~~~~\n",
      "~~~~~~~~~~~~~~~~~~~~~~~~~~~~~~~~~~~~~~~~~~~~~~~~~~~~~~~\n",
      "[array([0.95, 0.06]), array([0.15, 0.86]), array([0.26, 0.11]), array([49397.,  2998.])]\n",
      "[[ 7473 41924]\n",
      " [  407  2591]]\n"
     ]
    },
    {
     "name": "stderr",
     "output_type": "stream",
     "text": [
      "/home/adam/.local/lib/python3.7/site-packages/sklearn/metrics/_classification.py:1245: UndefinedMetricWarning: Precision and F-score are ill-defined and being set to 0.0 in labels with no predicted samples. Use `zero_division` parameter to control this behavior.\n",
      "  _warn_prf(average, modifier, msg_start, len(result))\n"
     ]
    }
   ],
   "source": [
    "clf = BernoulliNB()\n",
    "\n",
    "normal_metrics = run_transfer_model(clf, Bio_X, Bio_y, Chem_X, Chem_y)\n",
    "print(\"~~~~~~~~~~~~~~~~~~~~~~~~~~~~~~~~~~~~~~~~~~~~~~~~~~~~~~~\")\n",
    "print(\"~~~~~~~~~~~~~~~~~~~~~~~~~~~~~~~~~~~~~~~~~~~~~~~~~~~~~~~\")\n",
    "smote_metrics = run_transfer_model(clf, Bio_X_res, Bio_y_res, Chem_X, Chem_y)\n",
    "\n",
    "add_metrics_row(\"bio\", \"chem\", type(clf), normal_metrics, smote_metrics, df_metrics)"
   ]
  },
  {
   "cell_type": "code",
   "execution_count": 33,
   "metadata": {},
   "outputs": [
    {
     "name": "stderr",
     "output_type": "stream",
     "text": [
      "/home/adam/.local/lib/python3.7/site-packages/sklearn/metrics/_classification.py:1245: UndefinedMetricWarning: Precision and F-score are ill-defined and being set to 0.0 in labels with no predicted samples. Use `zero_division` parameter to control this behavior.\n",
      "  _warn_prf(average, modifier, msg_start, len(result))\n"
     ]
    },
    {
     "name": "stdout",
     "output_type": "stream",
     "text": [
      "[array([0.94, 0.  ]), array([1., 0.]), array([0.97, 0.  ]), array([49397.,  2998.])]\n",
      "[[49397     0]\n",
      " [ 2998     0]]\n",
      "~~~~~~~~~~~~~~~~~~~~~~~~~~~~~~~~~~~~~~~~~~~~~~~~~~~~~~~\n",
      "~~~~~~~~~~~~~~~~~~~~~~~~~~~~~~~~~~~~~~~~~~~~~~~~~~~~~~~\n",
      "[array([0.94, 0.06]), array([0.8 , 0.23]), array([0.87, 0.1 ]), array([49397.,  2998.])]\n",
      "[[39453  9944]\n",
      " [ 2323   675]]\n"
     ]
    }
   ],
   "source": [
    "clf = RandomForestClassifier(n_estimators=100, max_depth=2, random_state=0)\n",
    "\n",
    "normal_metrics = run_transfer_model(clf, Bio_X, Bio_y, Chem_X, Chem_y)\n",
    "print(\"~~~~~~~~~~~~~~~~~~~~~~~~~~~~~~~~~~~~~~~~~~~~~~~~~~~~~~~\")\n",
    "print(\"~~~~~~~~~~~~~~~~~~~~~~~~~~~~~~~~~~~~~~~~~~~~~~~~~~~~~~~\")\n",
    "smote_metrics = run_transfer_model(clf, Bio_X_res, Bio_y_res, Chem_X, Chem_y)\n",
    "\n",
    "add_metrics_row(\"bio\", \"chem\", type(clf), normal_metrics, smote_metrics, df_metrics)"
   ]
  },
  {
   "cell_type": "markdown",
   "metadata": {},
   "source": [
    "***\n",
    "### Bio -> Others\n",
    "***"
   ]
  },
  {
   "cell_type": "code",
   "execution_count": 34,
   "metadata": {},
   "outputs": [
    {
     "name": "stdout",
     "output_type": "stream",
     "text": [
      "[array([0.96, 0.03]), array([0.86, 0.11]), array([0.9 , 0.05]), array([5151.,  233.])]\n",
      "[[4423  728]\n",
      " [ 208   25]]\n",
      "~~~~~~~~~~~~~~~~~~~~~~~~~~~~~~~~~~~~~~~~~~~~~~~~~~~~~~~\n",
      "~~~~~~~~~~~~~~~~~~~~~~~~~~~~~~~~~~~~~~~~~~~~~~~~~~~~~~~\n",
      "[array([0.96, 0.05]), array([0.87, 0.16]), array([0.91, 0.08]), array([5151.,  233.])]\n",
      "[[4470  681]\n",
      " [ 196   37]]\n"
     ]
    }
   ],
   "source": [
    "clf = DecisionTreeClassifier(random_state=37)\n",
    "\n",
    "normal_metrics = run_transfer_model(clf, Bio_X, Bio_y, Others_X, Others_y)\n",
    "print(\"~~~~~~~~~~~~~~~~~~~~~~~~~~~~~~~~~~~~~~~~~~~~~~~~~~~~~~~\")\n",
    "print(\"~~~~~~~~~~~~~~~~~~~~~~~~~~~~~~~~~~~~~~~~~~~~~~~~~~~~~~~\")\n",
    "smote_metrics = run_transfer_model(clf, Bio_X_res, Bio_y_res, Others_X, Others_y)\n",
    "\n",
    "add_metrics_row(\"bio\", \"others\", type(clf), normal_metrics, smote_metrics, df_metrics)"
   ]
  },
  {
   "cell_type": "code",
   "execution_count": 35,
   "metadata": {},
   "outputs": [
    {
     "name": "stderr",
     "output_type": "stream",
     "text": [
      "/home/adam/.local/lib/python3.7/site-packages/sklearn/metrics/_classification.py:1245: UndefinedMetricWarning: Precision and F-score are ill-defined and being set to 0.0 in labels with no predicted samples. Use `zero_division` parameter to control this behavior.\n",
      "  _warn_prf(average, modifier, msg_start, len(result))\n"
     ]
    },
    {
     "name": "stdout",
     "output_type": "stream",
     "text": [
      "[array([0.96, 0.  ]), array([1., 0.]), array([0.98, 0.  ]), array([5151.,  233.])]\n",
      "[[5151    0]\n",
      " [ 233    0]]\n",
      "~~~~~~~~~~~~~~~~~~~~~~~~~~~~~~~~~~~~~~~~~~~~~~~~~~~~~~~\n",
      "~~~~~~~~~~~~~~~~~~~~~~~~~~~~~~~~~~~~~~~~~~~~~~~~~~~~~~~\n",
      "[array([0.96, 0.05]), array([0.86, 0.17]), array([0.91, 0.08]), array([5151.,  233.])]\n",
      "[[4454  697]\n",
      " [ 194   39]]\n"
     ]
    }
   ],
   "source": [
    "clf = KNeighborsClassifier(n_neighbors = 547)\n",
    "\n",
    "normal_metrics = run_transfer_model(clf, Bio_X, Bio_y, Others_X, Others_y)\n",
    "print(\"~~~~~~~~~~~~~~~~~~~~~~~~~~~~~~~~~~~~~~~~~~~~~~~~~~~~~~~\")\n",
    "print(\"~~~~~~~~~~~~~~~~~~~~~~~~~~~~~~~~~~~~~~~~~~~~~~~~~~~~~~~\")\n",
    "smote_metrics = run_transfer_model(clf, Bio_X_res, Bio_y_res, Others_X, Others_y)\n",
    "\n",
    "add_metrics_row(\"bio\", \"others\", type(clf), normal_metrics, smote_metrics, df_metrics)"
   ]
  },
  {
   "cell_type": "code",
   "execution_count": 36,
   "metadata": {},
   "outputs": [
    {
     "name": "stdout",
     "output_type": "stream",
     "text": [
      "[array([0.96, 0.  ]), array([1., 0.]), array([0.98, 0.  ]), array([5151.,  233.])]\n",
      "[[5151    0]\n",
      " [ 233    0]]\n",
      "~~~~~~~~~~~~~~~~~~~~~~~~~~~~~~~~~~~~~~~~~~~~~~~~~~~~~~~\n",
      "~~~~~~~~~~~~~~~~~~~~~~~~~~~~~~~~~~~~~~~~~~~~~~~~~~~~~~~\n",
      "[array([0.98, 0.05]), array([0.16, 0.92]), array([0.28, 0.09]), array([5151.,  233.])]\n",
      "[[ 837 4314]\n",
      " [  19  214]]\n"
     ]
    },
    {
     "name": "stderr",
     "output_type": "stream",
     "text": [
      "/home/adam/.local/lib/python3.7/site-packages/sklearn/metrics/_classification.py:1245: UndefinedMetricWarning: Precision and F-score are ill-defined and being set to 0.0 in labels with no predicted samples. Use `zero_division` parameter to control this behavior.\n",
      "  _warn_prf(average, modifier, msg_start, len(result))\n"
     ]
    }
   ],
   "source": [
    "clf = BernoulliNB()\n",
    "\n",
    "normal_metrics = run_transfer_model(clf, Bio_X, Bio_y, Others_X, Others_y)\n",
    "print(\"~~~~~~~~~~~~~~~~~~~~~~~~~~~~~~~~~~~~~~~~~~~~~~~~~~~~~~~\")\n",
    "print(\"~~~~~~~~~~~~~~~~~~~~~~~~~~~~~~~~~~~~~~~~~~~~~~~~~~~~~~~\")\n",
    "smote_metrics = run_transfer_model(clf, Bio_X_res, Bio_y_res, Others_X, Others_y)\n",
    "\n",
    "add_metrics_row(\"bio\", \"others\", type(clf), normal_metrics, smote_metrics, df_metrics)"
   ]
  },
  {
   "cell_type": "code",
   "execution_count": 37,
   "metadata": {},
   "outputs": [
    {
     "name": "stderr",
     "output_type": "stream",
     "text": [
      "/home/adam/.local/lib/python3.7/site-packages/sklearn/neural_network/_multilayer_perceptron.py:500: ConvergenceWarning: lbfgs failed to converge (status=2):\n",
      "ABNORMAL_TERMINATION_IN_LNSRCH.\n",
      "\n",
      "Increase the number of iterations (max_iter) or scale the data as shown in:\n",
      "    https://scikit-learn.org/stable/modules/preprocessing.html\n",
      "  self.n_iter_ = _check_optimize_result(\"lbfgs\", opt_res, self.max_iter)\n",
      "/home/adam/.local/lib/python3.7/site-packages/sklearn/metrics/_classification.py:1245: UndefinedMetricWarning: Precision and F-score are ill-defined and being set to 0.0 in labels with no predicted samples. Use `zero_division` parameter to control this behavior.\n",
      "  _warn_prf(average, modifier, msg_start, len(result))\n"
     ]
    },
    {
     "name": "stdout",
     "output_type": "stream",
     "text": [
      "[array([0.96, 0.  ]), array([1., 0.]), array([0.98, 0.  ]), array([5151.,  233.])]\n",
      "[[5151    0]\n",
      " [ 233    0]]\n",
      "~~~~~~~~~~~~~~~~~~~~~~~~~~~~~~~~~~~~~~~~~~~~~~~~~~~~~~~\n",
      "~~~~~~~~~~~~~~~~~~~~~~~~~~~~~~~~~~~~~~~~~~~~~~~~~~~~~~~\n",
      "[array([0.96, 0.05]), array([0.94, 0.06]), array([0.95, 0.05]), array([5151.,  233.])]\n",
      "[[4847  304]\n",
      " [ 218   15]]\n"
     ]
    }
   ],
   "source": [
    "clf = MLPClassifier(solver='lbfgs', alpha=1e-5, random_state=1)\n",
    "\n",
    "normal_metrics = run_transfer_model(clf, Bio_X, Bio_y, Others_X, Others_y)\n",
    "print(\"~~~~~~~~~~~~~~~~~~~~~~~~~~~~~~~~~~~~~~~~~~~~~~~~~~~~~~~\")\n",
    "print(\"~~~~~~~~~~~~~~~~~~~~~~~~~~~~~~~~~~~~~~~~~~~~~~~~~~~~~~~\")\n",
    "smote_metrics = run_transfer_model(clf, Bio_X_res, Bio_y_res, Others_X, Others_y)\n",
    "\n",
    "add_metrics_row(\"bio\", \"others\", type(clf), normal_metrics, smote_metrics, df_metrics)"
   ]
  },
  {
   "cell_type": "code",
   "execution_count": 38,
   "metadata": {},
   "outputs": [
    {
     "name": "stderr",
     "output_type": "stream",
     "text": [
      "/home/adam/.local/lib/python3.7/site-packages/sklearn/metrics/_classification.py:1245: UndefinedMetricWarning: Precision and F-score are ill-defined and being set to 0.0 in labels with no predicted samples. Use `zero_division` parameter to control this behavior.\n",
      "  _warn_prf(average, modifier, msg_start, len(result))\n"
     ]
    },
    {
     "name": "stdout",
     "output_type": "stream",
     "text": [
      "[array([0.96, 0.  ]), array([1., 0.]), array([0.98, 0.  ]), array([5151.,  233.])]\n",
      "[[5151    0]\n",
      " [ 233    0]]\n",
      "~~~~~~~~~~~~~~~~~~~~~~~~~~~~~~~~~~~~~~~~~~~~~~~~~~~~~~~\n",
      "~~~~~~~~~~~~~~~~~~~~~~~~~~~~~~~~~~~~~~~~~~~~~~~~~~~~~~~\n",
      "[array([0.96, 0.07]), array([0.83, 0.26]), array([0.89, 0.11]), array([5151.,  233.])]\n",
      "[[4287  864]\n",
      " [ 172   61]]\n"
     ]
    }
   ],
   "source": [
    "clf = RandomForestClassifier(n_estimators=100, max_depth=2, random_state=0)\n",
    "\n",
    "normal_metrics = run_transfer_model(clf, Bio_X, Bio_y, Others_X, Others_y)\n",
    "print(\"~~~~~~~~~~~~~~~~~~~~~~~~~~~~~~~~~~~~~~~~~~~~~~~~~~~~~~~\")\n",
    "print(\"~~~~~~~~~~~~~~~~~~~~~~~~~~~~~~~~~~~~~~~~~~~~~~~~~~~~~~~\")\n",
    "smote_metrics = run_transfer_model(clf, Bio_X_res, Bio_y_res, Others_X, Others_y)\n",
    "\n",
    "add_metrics_row(\"bio\", \"others\", type(clf), normal_metrics, smote_metrics, df_metrics)"
   ]
  },
  {
   "cell_type": "markdown",
   "metadata": {},
   "source": [
    "***\n",
    "### Astro -> Bio\n",
    "***"
   ]
  },
  {
   "cell_type": "code",
   "execution_count": 39,
   "metadata": {},
   "outputs": [
    {
     "name": "stdout",
     "output_type": "stream",
     "text": [
      "[array([0.91, 0.07]), array([0.87, 0.1 ]), array([0.89, 0.09]), array([159216.,  15717.])]\n",
      "[[138739  20477]\n",
      " [ 14068   1649]]\n",
      "~~~~~~~~~~~~~~~~~~~~~~~~~~~~~~~~~~~~~~~~~~~~~~~~~~~~~~~\n",
      "~~~~~~~~~~~~~~~~~~~~~~~~~~~~~~~~~~~~~~~~~~~~~~~~~~~~~~~\n",
      "[array([0.91, 0.08]), array([0.87, 0.12]), array([0.89, 0.1 ]), array([159216.,  15717.])]\n",
      "[[138703  20513]\n",
      " [ 13835   1882]]\n"
     ]
    }
   ],
   "source": [
    "clf = DecisionTreeClassifier(random_state=37)\n",
    "\n",
    "normal_metrics = run_transfer_model(clf, Astro_X, Astro_y, Bio_X, Bio_y)\n",
    "print(\"~~~~~~~~~~~~~~~~~~~~~~~~~~~~~~~~~~~~~~~~~~~~~~~~~~~~~~~\")\n",
    "print(\"~~~~~~~~~~~~~~~~~~~~~~~~~~~~~~~~~~~~~~~~~~~~~~~~~~~~~~~\")\n",
    "smote_metrics = run_transfer_model(clf, Astro_X_res, Astro_y_res, Bio_X, Bio_y)\n",
    "\n",
    "add_metrics_row(\"astro\", \"bio\", type(clf), normal_metrics, smote_metrics, df_metrics)"
   ]
  },
  {
   "cell_type": "code",
   "execution_count": 40,
   "metadata": {},
   "outputs": [
    {
     "name": "stderr",
     "output_type": "stream",
     "text": [
      "/home/adam/.local/lib/python3.7/site-packages/sklearn/metrics/_classification.py:1245: UndefinedMetricWarning: Precision and F-score are ill-defined and being set to 0.0 in labels with no predicted samples. Use `zero_division` parameter to control this behavior.\n",
      "  _warn_prf(average, modifier, msg_start, len(result))\n"
     ]
    },
    {
     "name": "stdout",
     "output_type": "stream",
     "text": [
      "[array([0.91, 0.  ]), array([1., 0.]), array([0.95, 0.  ]), array([159216.,  15717.])]\n",
      "[[159216      0]\n",
      " [ 15717      0]]\n",
      "~~~~~~~~~~~~~~~~~~~~~~~~~~~~~~~~~~~~~~~~~~~~~~~~~~~~~~~\n",
      "~~~~~~~~~~~~~~~~~~~~~~~~~~~~~~~~~~~~~~~~~~~~~~~~~~~~~~~\n",
      "[array([0.9 , 0.08]), array([0.54, 0.39]), array([0.68, 0.13]), array([159216.,  15717.])]\n",
      "[[86134 73082]\n",
      " [ 9534  6183]]\n"
     ]
    }
   ],
   "source": [
    "clf = KNeighborsClassifier(n_neighbors = 547)\n",
    "\n",
    "normal_metrics = run_transfer_model(clf, Astro_X, Astro_y, Bio_X, Bio_y)\n",
    "print(\"~~~~~~~~~~~~~~~~~~~~~~~~~~~~~~~~~~~~~~~~~~~~~~~~~~~~~~~\")\n",
    "print(\"~~~~~~~~~~~~~~~~~~~~~~~~~~~~~~~~~~~~~~~~~~~~~~~~~~~~~~~\")\n",
    "smote_metrics = run_transfer_model(clf, Astro_X_res, Astro_y_res, Bio_X, Bio_y)\n",
    "\n",
    "add_metrics_row(\"astro\", \"bio\", type(clf), normal_metrics, smote_metrics, df_metrics)"
   ]
  },
  {
   "cell_type": "code",
   "execution_count": 41,
   "metadata": {},
   "outputs": [
    {
     "name": "stdout",
     "output_type": "stream",
     "text": [
      "[array([0.91, 0.  ]), array([1., 0.]), array([0.95, 0.  ]), array([159216.,  15717.])]\n"
     ]
    },
    {
     "name": "stderr",
     "output_type": "stream",
     "text": [
      "/home/adam/.local/lib/python3.7/site-packages/sklearn/metrics/_classification.py:1245: UndefinedMetricWarning: Precision and F-score are ill-defined and being set to 0.0 in labels with no predicted samples. Use `zero_division` parameter to control this behavior.\n",
      "  _warn_prf(average, modifier, msg_start, len(result))\n"
     ]
    },
    {
     "name": "stdout",
     "output_type": "stream",
     "text": [
      "[[159216      0]\n",
      " [ 15717      0]]\n",
      "~~~~~~~~~~~~~~~~~~~~~~~~~~~~~~~~~~~~~~~~~~~~~~~~~~~~~~~\n",
      "~~~~~~~~~~~~~~~~~~~~~~~~~~~~~~~~~~~~~~~~~~~~~~~~~~~~~~~\n",
      "[array([0.93, 0.09]), array([0.17, 0.86]), array([0.29, 0.17]), array([159216.,  15717.])]\n",
      "[[ 27246 131970]\n",
      " [  2197  13520]]\n"
     ]
    }
   ],
   "source": [
    "clf = BernoulliNB()\n",
    "\n",
    "normal_metrics = run_transfer_model(clf, Astro_X, Astro_y, Bio_X, Bio_y)\n",
    "print(\"~~~~~~~~~~~~~~~~~~~~~~~~~~~~~~~~~~~~~~~~~~~~~~~~~~~~~~~\")\n",
    "print(\"~~~~~~~~~~~~~~~~~~~~~~~~~~~~~~~~~~~~~~~~~~~~~~~~~~~~~~~\")\n",
    "smote_metrics = run_transfer_model(clf, Astro_X_res, Astro_y_res, Bio_X, Bio_y)\n",
    "\n",
    "add_metrics_row(\"astro\", \"bio\", type(clf), normal_metrics, smote_metrics, df_metrics)"
   ]
  },
  {
   "cell_type": "code",
   "execution_count": 42,
   "metadata": {},
   "outputs": [
    {
     "name": "stderr",
     "output_type": "stream",
     "text": [
      "/home/adam/.local/lib/python3.7/site-packages/sklearn/neural_network/_multilayer_perceptron.py:500: ConvergenceWarning: lbfgs failed to converge (status=2):\n",
      "ABNORMAL_TERMINATION_IN_LNSRCH.\n",
      "\n",
      "Increase the number of iterations (max_iter) or scale the data as shown in:\n",
      "    https://scikit-learn.org/stable/modules/preprocessing.html\n",
      "  self.n_iter_ = _check_optimize_result(\"lbfgs\", opt_res, self.max_iter)\n"
     ]
    },
    {
     "name": "stdout",
     "output_type": "stream",
     "text": [
      "[array([0.91, 0.06]), array([0.98, 0.01]), array([0.94, 0.02]), array([159216.,  15717.])]\n",
      "[[156227   2989]\n",
      " [ 15531    186]]\n",
      "~~~~~~~~~~~~~~~~~~~~~~~~~~~~~~~~~~~~~~~~~~~~~~~~~~~~~~~\n",
      "~~~~~~~~~~~~~~~~~~~~~~~~~~~~~~~~~~~~~~~~~~~~~~~~~~~~~~~\n",
      "[array([0.91, 0.09]), array([0.18, 0.83]), array([0.31, 0.16]), array([159216.,  15717.])]\n",
      "[[ 29182 130034]\n",
      " [  2731  12986]]\n"
     ]
    }
   ],
   "source": [
    "clf = MLPClassifier(solver='lbfgs', alpha=1e-5, random_state=1)\n",
    "\n",
    "normal_metrics = run_transfer_model(clf, Astro_X, Astro_y, Bio_X, Bio_y)\n",
    "print(\"~~~~~~~~~~~~~~~~~~~~~~~~~~~~~~~~~~~~~~~~~~~~~~~~~~~~~~~\")\n",
    "print(\"~~~~~~~~~~~~~~~~~~~~~~~~~~~~~~~~~~~~~~~~~~~~~~~~~~~~~~~\")\n",
    "smote_metrics = run_transfer_model(clf, Astro_X_res, Astro_y_res, Bio_X, Bio_y)\n",
    "\n",
    "add_metrics_row(\"astro\", \"bio\", type(clf), normal_metrics, smote_metrics, df_metrics)"
   ]
  },
  {
   "cell_type": "code",
   "execution_count": 43,
   "metadata": {},
   "outputs": [
    {
     "name": "stderr",
     "output_type": "stream",
     "text": [
      "/home/adam/.local/lib/python3.7/site-packages/sklearn/metrics/_classification.py:1245: UndefinedMetricWarning: Precision and F-score are ill-defined and being set to 0.0 in labels with no predicted samples. Use `zero_division` parameter to control this behavior.\n",
      "  _warn_prf(average, modifier, msg_start, len(result))\n"
     ]
    },
    {
     "name": "stdout",
     "output_type": "stream",
     "text": [
      "[array([0.91, 0.  ]), array([1., 0.]), array([0.95, 0.  ]), array([159216.,  15717.])]\n",
      "[[159216      0]\n",
      " [ 15717      0]]\n",
      "~~~~~~~~~~~~~~~~~~~~~~~~~~~~~~~~~~~~~~~~~~~~~~~~~~~~~~~\n",
      "~~~~~~~~~~~~~~~~~~~~~~~~~~~~~~~~~~~~~~~~~~~~~~~~~~~~~~~\n",
      "[array([0.9 , 0.08]), array([0.37, 0.59]), array([0.52, 0.15]), array([159216.,  15717.])]\n",
      "[[ 58712 100504]\n",
      " [  6455   9262]]\n"
     ]
    }
   ],
   "source": [
    "clf = RandomForestClassifier(n_estimators=100, max_depth=2, random_state=0)\n",
    "\n",
    "normal_metrics = run_transfer_model(clf, Astro_X, Astro_y, Bio_X, Bio_y)\n",
    "print(\"~~~~~~~~~~~~~~~~~~~~~~~~~~~~~~~~~~~~~~~~~~~~~~~~~~~~~~~\")\n",
    "print(\"~~~~~~~~~~~~~~~~~~~~~~~~~~~~~~~~~~~~~~~~~~~~~~~~~~~~~~~\")\n",
    "smote_metrics = run_transfer_model(clf, Astro_X_res, Astro_y_res, Bio_X, Bio_y)\n",
    "\n",
    "add_metrics_row(\"astro\", \"bio\", type(clf), normal_metrics, smote_metrics, df_metrics)"
   ]
  },
  {
   "cell_type": "markdown",
   "metadata": {},
   "source": [
    "***\n",
    "### Astro -> Chem\n",
    "***"
   ]
  },
  {
   "cell_type": "code",
   "execution_count": 44,
   "metadata": {},
   "outputs": [
    {
     "name": "stdout",
     "output_type": "stream",
     "text": [
      "[array([0.94, 0.06]), array([0.8, 0.2]), array([0.86, 0.09]), array([49397.,  2998.])]\n",
      "[[39294 10103]\n",
      " [ 2398   600]]\n",
      "~~~~~~~~~~~~~~~~~~~~~~~~~~~~~~~~~~~~~~~~~~~~~~~~~~~~~~~\n",
      "~~~~~~~~~~~~~~~~~~~~~~~~~~~~~~~~~~~~~~~~~~~~~~~~~~~~~~~\n",
      "[array([0.94, 0.06]), array([0.84, 0.17]), array([0.89, 0.09]), array([49397.,  2998.])]\n",
      "[[41278  8119]\n",
      " [ 2483   515]]\n"
     ]
    }
   ],
   "source": [
    "clf = DecisionTreeClassifier(random_state=37)\n",
    "\n",
    "normal_metrics = run_transfer_model(clf, Astro_X, Astro_y, Chem_X, Chem_y)\n",
    "print(\"~~~~~~~~~~~~~~~~~~~~~~~~~~~~~~~~~~~~~~~~~~~~~~~~~~~~~~~\")\n",
    "print(\"~~~~~~~~~~~~~~~~~~~~~~~~~~~~~~~~~~~~~~~~~~~~~~~~~~~~~~~\")\n",
    "smote_metrics = run_transfer_model(clf, Astro_X_res, Astro_y_res, Chem_X, Chem_y)\n",
    "\n",
    "add_metrics_row(\"astro\", \"chem\", type(clf), normal_metrics, smote_metrics, df_metrics)"
   ]
  },
  {
   "cell_type": "code",
   "execution_count": 45,
   "metadata": {},
   "outputs": [
    {
     "name": "stderr",
     "output_type": "stream",
     "text": [
      "/home/adam/.local/lib/python3.7/site-packages/sklearn/metrics/_classification.py:1245: UndefinedMetricWarning: Precision and F-score are ill-defined and being set to 0.0 in labels with no predicted samples. Use `zero_division` parameter to control this behavior.\n",
      "  _warn_prf(average, modifier, msg_start, len(result))\n"
     ]
    },
    {
     "name": "stdout",
     "output_type": "stream",
     "text": [
      "[array([0.94, 0.  ]), array([1., 0.]), array([0.97, 0.  ]), array([49397.,  2998.])]\n",
      "[[49397     0]\n",
      " [ 2998     0]]\n",
      "~~~~~~~~~~~~~~~~~~~~~~~~~~~~~~~~~~~~~~~~~~~~~~~~~~~~~~~\n",
      "~~~~~~~~~~~~~~~~~~~~~~~~~~~~~~~~~~~~~~~~~~~~~~~~~~~~~~~\n",
      "[array([0.95, 0.06]), array([0.56, 0.48]), array([0.71, 0.11]), array([49397.,  2998.])]\n",
      "[[27897 21500]\n",
      " [ 1550  1448]]\n"
     ]
    }
   ],
   "source": [
    "clf = KNeighborsClassifier(n_neighbors = 547)\n",
    "\n",
    "normal_metrics = run_transfer_model(clf, Astro_X, Astro_y, Chem_X, Chem_y)\n",
    "print(\"~~~~~~~~~~~~~~~~~~~~~~~~~~~~~~~~~~~~~~~~~~~~~~~~~~~~~~~\")\n",
    "print(\"~~~~~~~~~~~~~~~~~~~~~~~~~~~~~~~~~~~~~~~~~~~~~~~~~~~~~~~\")\n",
    "smote_metrics = run_transfer_model(clf, Astro_X_res, Astro_y_res, Chem_X, Chem_y)\n",
    "\n",
    "add_metrics_row(\"astro\", \"chem\", type(clf), normal_metrics, smote_metrics, df_metrics)"
   ]
  },
  {
   "cell_type": "code",
   "execution_count": 46,
   "metadata": {},
   "outputs": [
    {
     "name": "stdout",
     "output_type": "stream",
     "text": [
      "[array([0.94, 0.  ]), array([1., 0.]), array([0.97, 0.  ]), array([49397.,  2998.])]\n",
      "[[49397     0]\n",
      " [ 2998     0]]\n",
      "~~~~~~~~~~~~~~~~~~~~~~~~~~~~~~~~~~~~~~~~~~~~~~~~~~~~~~~\n",
      "~~~~~~~~~~~~~~~~~~~~~~~~~~~~~~~~~~~~~~~~~~~~~~~~~~~~~~~\n",
      "[array([0.95, 0.06]), array([0.15, 0.86]), array([0.26, 0.11]), array([49397.,  2998.])]\n",
      "[[ 7473 41924]\n",
      " [  407  2591]]\n"
     ]
    },
    {
     "name": "stderr",
     "output_type": "stream",
     "text": [
      "/home/adam/.local/lib/python3.7/site-packages/sklearn/metrics/_classification.py:1245: UndefinedMetricWarning: Precision and F-score are ill-defined and being set to 0.0 in labels with no predicted samples. Use `zero_division` parameter to control this behavior.\n",
      "  _warn_prf(average, modifier, msg_start, len(result))\n"
     ]
    }
   ],
   "source": [
    "clf = BernoulliNB()\n",
    "\n",
    "normal_metrics = run_transfer_model(clf, Astro_X, Astro_y, Chem_X, Chem_y)\n",
    "print(\"~~~~~~~~~~~~~~~~~~~~~~~~~~~~~~~~~~~~~~~~~~~~~~~~~~~~~~~\")\n",
    "print(\"~~~~~~~~~~~~~~~~~~~~~~~~~~~~~~~~~~~~~~~~~~~~~~~~~~~~~~~\")\n",
    "smote_metrics = run_transfer_model(clf, Astro_X_res, Astro_y_res, Chem_X, Chem_y)\n",
    "\n",
    "add_metrics_row(\"astro\", \"chem\", type(clf), normal_metrics, smote_metrics, df_metrics)"
   ]
  },
  {
   "cell_type": "code",
   "execution_count": 47,
   "metadata": {},
   "outputs": [
    {
     "name": "stderr",
     "output_type": "stream",
     "text": [
      "/home/adam/.local/lib/python3.7/site-packages/sklearn/neural_network/_multilayer_perceptron.py:500: ConvergenceWarning: lbfgs failed to converge (status=2):\n",
      "ABNORMAL_TERMINATION_IN_LNSRCH.\n",
      "\n",
      "Increase the number of iterations (max_iter) or scale the data as shown in:\n",
      "    https://scikit-learn.org/stable/modules/preprocessing.html\n",
      "  self.n_iter_ = _check_optimize_result(\"lbfgs\", opt_res, self.max_iter)\n"
     ]
    },
    {
     "name": "stdout",
     "output_type": "stream",
     "text": [
      "[array([0.94, 0.06]), array([0.95, 0.06]), array([0.94, 0.06]), array([49397.,  2998.])]\n",
      "[[46711  2686]\n",
      " [ 2829   169]]\n",
      "~~~~~~~~~~~~~~~~~~~~~~~~~~~~~~~~~~~~~~~~~~~~~~~~~~~~~~~\n",
      "~~~~~~~~~~~~~~~~~~~~~~~~~~~~~~~~~~~~~~~~~~~~~~~~~~~~~~~\n",
      "[array([0.94, 0.05]), array([0.35, 0.62]), array([0.51, 0.1 ]), array([49397.,  2998.])]\n",
      "[[17469 31928]\n",
      " [ 1144  1854]]\n"
     ]
    }
   ],
   "source": [
    "clf = MLPClassifier(solver='lbfgs', alpha=1e-5, random_state=1)\n",
    "\n",
    "normal_metrics = run_transfer_model(clf, Astro_X, Astro_y, Chem_X, Chem_y)\n",
    "print(\"~~~~~~~~~~~~~~~~~~~~~~~~~~~~~~~~~~~~~~~~~~~~~~~~~~~~~~~\")\n",
    "print(\"~~~~~~~~~~~~~~~~~~~~~~~~~~~~~~~~~~~~~~~~~~~~~~~~~~~~~~~\")\n",
    "smote_metrics = run_transfer_model(clf, Astro_X_res, Astro_y_res, Chem_X, Chem_y)\n",
    "\n",
    "add_metrics_row(\"astro\", \"chem\", type(clf), normal_metrics, smote_metrics, df_metrics)"
   ]
  },
  {
   "cell_type": "code",
   "execution_count": 48,
   "metadata": {},
   "outputs": [
    {
     "name": "stderr",
     "output_type": "stream",
     "text": [
      "/home/adam/.local/lib/python3.7/site-packages/sklearn/metrics/_classification.py:1245: UndefinedMetricWarning: Precision and F-score are ill-defined and being set to 0.0 in labels with no predicted samples. Use `zero_division` parameter to control this behavior.\n",
      "  _warn_prf(average, modifier, msg_start, len(result))\n"
     ]
    },
    {
     "name": "stdout",
     "output_type": "stream",
     "text": [
      "[array([0.94, 0.  ]), array([1., 0.]), array([0.97, 0.  ]), array([49397.,  2998.])]\n",
      "[[49397     0]\n",
      " [ 2998     0]]\n",
      "~~~~~~~~~~~~~~~~~~~~~~~~~~~~~~~~~~~~~~~~~~~~~~~~~~~~~~~\n",
      "~~~~~~~~~~~~~~~~~~~~~~~~~~~~~~~~~~~~~~~~~~~~~~~~~~~~~~~\n",
      "[array([0.95, 0.06]), array([0.23, 0.81]), array([0.37, 0.11]), array([49397.,  2998.])]\n",
      "[[11429 37968]\n",
      " [  563  2435]]\n"
     ]
    }
   ],
   "source": [
    "clf = RandomForestClassifier(n_estimators=100, max_depth=2, random_state=0)\n",
    "\n",
    "normal_metrics = run_transfer_model(clf, Astro_X, Astro_y, Chem_X, Chem_y)\n",
    "print(\"~~~~~~~~~~~~~~~~~~~~~~~~~~~~~~~~~~~~~~~~~~~~~~~~~~~~~~~\")\n",
    "print(\"~~~~~~~~~~~~~~~~~~~~~~~~~~~~~~~~~~~~~~~~~~~~~~~~~~~~~~~\")\n",
    "smote_metrics = run_transfer_model(clf, Astro_X_res, Astro_y_res, Chem_X, Chem_y)\n",
    "\n",
    "add_metrics_row(\"astro\", \"chem\", type(clf), normal_metrics, smote_metrics, df_metrics)"
   ]
  },
  {
   "cell_type": "markdown",
   "metadata": {},
   "source": [
    "***\n",
    "### Astro -> Others\n",
    "***"
   ]
  },
  {
   "cell_type": "code",
   "execution_count": 49,
   "metadata": {},
   "outputs": [
    {
     "name": "stdout",
     "output_type": "stream",
     "text": [
      "[array([0.95, 0.04]), array([0.79, 0.18]), array([0.86, 0.06]), array([5151.,  233.])]\n",
      "[[4064 1087]\n",
      " [ 192   41]]\n",
      "~~~~~~~~~~~~~~~~~~~~~~~~~~~~~~~~~~~~~~~~~~~~~~~~~~~~~~~\n",
      "~~~~~~~~~~~~~~~~~~~~~~~~~~~~~~~~~~~~~~~~~~~~~~~~~~~~~~~\n",
      "[array([0.96, 0.05]), array([0.86, 0.15]), array([0.9 , 0.07]), array([5151.,  233.])]\n",
      "[[4408  743]\n",
      " [ 197   36]]\n"
     ]
    }
   ],
   "source": [
    "clf = DecisionTreeClassifier(random_state=37)\n",
    "\n",
    "normal_metrics = run_transfer_model(clf, Astro_X, Astro_y, Others_X, Others_y)\n",
    "print(\"~~~~~~~~~~~~~~~~~~~~~~~~~~~~~~~~~~~~~~~~~~~~~~~~~~~~~~~\")\n",
    "print(\"~~~~~~~~~~~~~~~~~~~~~~~~~~~~~~~~~~~~~~~~~~~~~~~~~~~~~~~\")\n",
    "smote_metrics = run_transfer_model(clf, Astro_X_res, Astro_y_res, Others_X, Others_y)\n",
    "\n",
    "add_metrics_row(\"astro\", \"others\", type(clf), normal_metrics, smote_metrics, df_metrics)"
   ]
  },
  {
   "cell_type": "code",
   "execution_count": 50,
   "metadata": {},
   "outputs": [
    {
     "name": "stderr",
     "output_type": "stream",
     "text": [
      "/home/adam/.local/lib/python3.7/site-packages/sklearn/metrics/_classification.py:1245: UndefinedMetricWarning: Precision and F-score are ill-defined and being set to 0.0 in labels with no predicted samples. Use `zero_division` parameter to control this behavior.\n",
      "  _warn_prf(average, modifier, msg_start, len(result))\n"
     ]
    },
    {
     "name": "stdout",
     "output_type": "stream",
     "text": [
      "[array([0.96, 0.  ]), array([1., 0.]), array([0.98, 0.  ]), array([5151.,  233.])]\n",
      "[[5151    0]\n",
      " [ 233    0]]\n",
      "~~~~~~~~~~~~~~~~~~~~~~~~~~~~~~~~~~~~~~~~~~~~~~~~~~~~~~~\n",
      "~~~~~~~~~~~~~~~~~~~~~~~~~~~~~~~~~~~~~~~~~~~~~~~~~~~~~~~\n",
      "[array([0.95, 0.04]), array([0.33, 0.62]), array([0.49, 0.08]), array([5151.,  233.])]\n",
      "[[1710 3441]\n",
      " [  89  144]]\n"
     ]
    }
   ],
   "source": [
    "clf = KNeighborsClassifier(n_neighbors = 547)\n",
    "\n",
    "normal_metrics = run_transfer_model(clf, Astro_X, Astro_y, Others_X, Others_y)\n",
    "print(\"~~~~~~~~~~~~~~~~~~~~~~~~~~~~~~~~~~~~~~~~~~~~~~~~~~~~~~~\")\n",
    "print(\"~~~~~~~~~~~~~~~~~~~~~~~~~~~~~~~~~~~~~~~~~~~~~~~~~~~~~~~\")\n",
    "smote_metrics = run_transfer_model(clf, Astro_X_res, Astro_y_res, Others_X, Others_y)\n",
    "\n",
    "add_metrics_row(\"astro\", \"others\", type(clf), normal_metrics, smote_metrics, df_metrics)"
   ]
  },
  {
   "cell_type": "code",
   "execution_count": 51,
   "metadata": {},
   "outputs": [
    {
     "name": "stdout",
     "output_type": "stream",
     "text": [
      "[array([0.96, 0.  ]), array([1., 0.]), array([0.98, 0.  ]), array([5151.,  233.])]\n",
      "[[5151    0]\n",
      " [ 233    0]]\n",
      "~~~~~~~~~~~~~~~~~~~~~~~~~~~~~~~~~~~~~~~~~~~~~~~~~~~~~~~\n",
      "~~~~~~~~~~~~~~~~~~~~~~~~~~~~~~~~~~~~~~~~~~~~~~~~~~~~~~~\n",
      "[array([0.98, 0.05]), array([0.16, 0.92]), array([0.28, 0.09]), array([5151.,  233.])]\n",
      "[[ 837 4314]\n",
      " [  19  214]]\n"
     ]
    },
    {
     "name": "stderr",
     "output_type": "stream",
     "text": [
      "/home/adam/.local/lib/python3.7/site-packages/sklearn/metrics/_classification.py:1245: UndefinedMetricWarning: Precision and F-score are ill-defined and being set to 0.0 in labels with no predicted samples. Use `zero_division` parameter to control this behavior.\n",
      "  _warn_prf(average, modifier, msg_start, len(result))\n"
     ]
    }
   ],
   "source": [
    "clf = BernoulliNB()\n",
    "\n",
    "normal_metrics = run_transfer_model(clf, Astro_X, Astro_y, Others_X, Others_y)\n",
    "print(\"~~~~~~~~~~~~~~~~~~~~~~~~~~~~~~~~~~~~~~~~~~~~~~~~~~~~~~~\")\n",
    "print(\"~~~~~~~~~~~~~~~~~~~~~~~~~~~~~~~~~~~~~~~~~~~~~~~~~~~~~~~\")\n",
    "smote_metrics = run_transfer_model(clf, Astro_X_res, Astro_y_res, Others_X, Others_y)\n",
    "\n",
    "add_metrics_row(\"astro\", \"others\", type(clf), normal_metrics, smote_metrics, df_metrics)"
   ]
  },
  {
   "cell_type": "code",
   "execution_count": 52,
   "metadata": {},
   "outputs": [
    {
     "name": "stderr",
     "output_type": "stream",
     "text": [
      "/home/adam/.local/lib/python3.7/site-packages/sklearn/neural_network/_multilayer_perceptron.py:500: ConvergenceWarning: lbfgs failed to converge (status=2):\n",
      "ABNORMAL_TERMINATION_IN_LNSRCH.\n",
      "\n",
      "Increase the number of iterations (max_iter) or scale the data as shown in:\n",
      "    https://scikit-learn.org/stable/modules/preprocessing.html\n",
      "  self.n_iter_ = _check_optimize_result(\"lbfgs\", opt_res, self.max_iter)\n"
     ]
    },
    {
     "name": "stdout",
     "output_type": "stream",
     "text": [
      "[array([0.96, 0.03]), array([0.99, 0.  ]), array([0.97, 0.01]), array([5151.,  233.])]\n",
      "[[5119   32]\n",
      " [ 232    1]]\n",
      "~~~~~~~~~~~~~~~~~~~~~~~~~~~~~~~~~~~~~~~~~~~~~~~~~~~~~~~\n",
      "~~~~~~~~~~~~~~~~~~~~~~~~~~~~~~~~~~~~~~~~~~~~~~~~~~~~~~~\n",
      "[array([0.96, 0.06]), array([0.65, 0.47]), array([0.78, 0.1 ]), array([5151.,  233.])]\n",
      "[[3370 1781]\n",
      " [ 124  109]]\n"
     ]
    }
   ],
   "source": [
    "clf = MLPClassifier(solver='lbfgs', alpha=1e-5, random_state=1, max_iter = 1000)\n",
    "\n",
    "normal_metrics = run_transfer_model(clf, Astro_X, Astro_y, Others_X, Others_y)\n",
    "print(\"~~~~~~~~~~~~~~~~~~~~~~~~~~~~~~~~~~~~~~~~~~~~~~~~~~~~~~~\")\n",
    "print(\"~~~~~~~~~~~~~~~~~~~~~~~~~~~~~~~~~~~~~~~~~~~~~~~~~~~~~~~\")\n",
    "smote_metrics = run_transfer_model(clf, Astro_X_res, Astro_y_res, Others_X, Others_y)\n",
    "\n",
    "add_metrics_row(\"astro\", \"others\", type(clf), normal_metrics, smote_metrics, df_metrics)"
   ]
  },
  {
   "cell_type": "code",
   "execution_count": 53,
   "metadata": {},
   "outputs": [
    {
     "name": "stderr",
     "output_type": "stream",
     "text": [
      "/home/adam/.local/lib/python3.7/site-packages/sklearn/metrics/_classification.py:1245: UndefinedMetricWarning: Precision and F-score are ill-defined and being set to 0.0 in labels with no predicted samples. Use `zero_division` parameter to control this behavior.\n",
      "  _warn_prf(average, modifier, msg_start, len(result))\n"
     ]
    },
    {
     "name": "stdout",
     "output_type": "stream",
     "text": [
      "[array([0.96, 0.  ]), array([1., 0.]), array([0.98, 0.  ]), array([5151.,  233.])]\n",
      "[[5151    0]\n",
      " [ 233    0]]\n",
      "~~~~~~~~~~~~~~~~~~~~~~~~~~~~~~~~~~~~~~~~~~~~~~~~~~~~~~~\n",
      "~~~~~~~~~~~~~~~~~~~~~~~~~~~~~~~~~~~~~~~~~~~~~~~~~~~~~~~\n",
      "[array([0.98, 0.05]), array([0.24, 0.89]), array([0.38, 0.1 ]), array([5151.,  233.])]\n",
      "[[1232 3919]\n",
      " [  25  208]]\n"
     ]
    }
   ],
   "source": [
    "clf = RandomForestClassifier(n_estimators=100, max_depth=2, random_state=0)\n",
    "\n",
    "normal_metrics = run_transfer_model(clf, Astro_X, Astro_y, Others_X, Others_y)\n",
    "print(\"~~~~~~~~~~~~~~~~~~~~~~~~~~~~~~~~~~~~~~~~~~~~~~~~~~~~~~~\")\n",
    "print(\"~~~~~~~~~~~~~~~~~~~~~~~~~~~~~~~~~~~~~~~~~~~~~~~~~~~~~~~\")\n",
    "smote_metrics = run_transfer_model(clf, Astro_X_res, Astro_y_res, Others_X, Others_y)\n",
    "\n",
    "add_metrics_row(\"astro\", \"others\", type(clf), normal_metrics, smote_metrics, df_metrics)"
   ]
  },
  {
   "cell_type": "markdown",
   "metadata": {},
   "source": [
    "***\n",
    "### Chem -> Bio\n",
    "***"
   ]
  },
  {
   "cell_type": "code",
   "execution_count": 54,
   "metadata": {},
   "outputs": [
    {
     "name": "stdout",
     "output_type": "stream",
     "text": [
      "[array([0.91, 0.08]), array([0.92, 0.07]), array([0.91, 0.07]), array([159216.,  15717.])]\n",
      "[[146069  13147]\n",
      " [ 14648   1069]]\n",
      "~~~~~~~~~~~~~~~~~~~~~~~~~~~~~~~~~~~~~~~~~~~~~~~~~~~~~~~\n",
      "~~~~~~~~~~~~~~~~~~~~~~~~~~~~~~~~~~~~~~~~~~~~~~~~~~~~~~~\n",
      "[array([0.91, 0.08]), array([0.9 , 0.09]), array([0.91, 0.08]), array([159216.,  15717.])]\n",
      "[[143872  15344]\n",
      " [ 14356   1361]]\n"
     ]
    }
   ],
   "source": [
    "clf = DecisionTreeClassifier(random_state=37)\n",
    "\n",
    "normal_metrics = run_transfer_model(clf, Chem_X, Chem_y, Bio_X, Bio_y)\n",
    "print(\"~~~~~~~~~~~~~~~~~~~~~~~~~~~~~~~~~~~~~~~~~~~~~~~~~~~~~~~\")\n",
    "print(\"~~~~~~~~~~~~~~~~~~~~~~~~~~~~~~~~~~~~~~~~~~~~~~~~~~~~~~~\")\n",
    "smote_metrics = run_transfer_model(clf, Chem_X_res, Chem_y_res, Bio_X, Bio_y)\n",
    "\n",
    "add_metrics_row(\"chem\", \"bio\", type(clf), normal_metrics, smote_metrics, df_metrics)"
   ]
  },
  {
   "cell_type": "code",
   "execution_count": 55,
   "metadata": {},
   "outputs": [
    {
     "name": "stderr",
     "output_type": "stream",
     "text": [
      "/home/adam/.local/lib/python3.7/site-packages/sklearn/metrics/_classification.py:1245: UndefinedMetricWarning: Precision and F-score are ill-defined and being set to 0.0 in labels with no predicted samples. Use `zero_division` parameter to control this behavior.\n",
      "  _warn_prf(average, modifier, msg_start, len(result))\n"
     ]
    },
    {
     "name": "stdout",
     "output_type": "stream",
     "text": [
      "[array([0.91, 0.  ]), array([1., 0.]), array([0.95, 0.  ]), array([159216.,  15717.])]\n",
      "[[159216      0]\n",
      " [ 15717      0]]\n",
      "~~~~~~~~~~~~~~~~~~~~~~~~~~~~~~~~~~~~~~~~~~~~~~~~~~~~~~~\n",
      "~~~~~~~~~~~~~~~~~~~~~~~~~~~~~~~~~~~~~~~~~~~~~~~~~~~~~~~\n",
      "[array([0.91, 0.09]), array([0.63, 0.36]), array([0.74, 0.14]), array([159216.,  15717.])]\n",
      "[[99843 59373]\n",
      " [10075  5642]]\n"
     ]
    }
   ],
   "source": [
    "clf = KNeighborsClassifier(n_neighbors = 547)\n",
    "\n",
    "normal_metrics = run_transfer_model(clf, Chem_X, Chem_y, Bio_X, Bio_y)\n",
    "print(\"~~~~~~~~~~~~~~~~~~~~~~~~~~~~~~~~~~~~~~~~~~~~~~~~~~~~~~~\")\n",
    "print(\"~~~~~~~~~~~~~~~~~~~~~~~~~~~~~~~~~~~~~~~~~~~~~~~~~~~~~~~\")\n",
    "smote_metrics = run_transfer_model(clf, Chem_X_res, Chem_y_res, Bio_X, Bio_y)\n",
    "\n",
    "add_metrics_row(\"chem\", \"bio\", type(clf), normal_metrics, smote_metrics, df_metrics)"
   ]
  },
  {
   "cell_type": "code",
   "execution_count": 56,
   "metadata": {},
   "outputs": [
    {
     "name": "stdout",
     "output_type": "stream",
     "text": [
      "[array([0.91, 0.  ]), array([1., 0.]), array([0.95, 0.  ]), array([159216.,  15717.])]\n"
     ]
    },
    {
     "name": "stderr",
     "output_type": "stream",
     "text": [
      "/home/adam/.local/lib/python3.7/site-packages/sklearn/metrics/_classification.py:1245: UndefinedMetricWarning: Precision and F-score are ill-defined and being set to 0.0 in labels with no predicted samples. Use `zero_division` parameter to control this behavior.\n",
      "  _warn_prf(average, modifier, msg_start, len(result))\n"
     ]
    },
    {
     "name": "stdout",
     "output_type": "stream",
     "text": [
      "[[159216      0]\n",
      " [ 15717      0]]\n",
      "~~~~~~~~~~~~~~~~~~~~~~~~~~~~~~~~~~~~~~~~~~~~~~~~~~~~~~~\n",
      "~~~~~~~~~~~~~~~~~~~~~~~~~~~~~~~~~~~~~~~~~~~~~~~~~~~~~~~\n"
     ]
    },
    {
     "ename": "KeyboardInterrupt",
     "evalue": "",
     "output_type": "error",
     "traceback": [
      "\u001b[0;31m---------------------------------------------------------------------------\u001b[0m",
      "\u001b[0;31mKeyboardInterrupt\u001b[0m                         Traceback (most recent call last)",
      "\u001b[0;32m<ipython-input-56-151ee1f6415b>\u001b[0m in \u001b[0;36m<module>\u001b[0;34m()\u001b[0m\n\u001b[1;32m      4\u001b[0m \u001b[0mprint\u001b[0m\u001b[0;34m(\u001b[0m\u001b[0;34m\"~~~~~~~~~~~~~~~~~~~~~~~~~~~~~~~~~~~~~~~~~~~~~~~~~~~~~~~\"\u001b[0m\u001b[0;34m)\u001b[0m\u001b[0;34m\u001b[0m\u001b[0;34m\u001b[0m\u001b[0m\n\u001b[1;32m      5\u001b[0m \u001b[0mprint\u001b[0m\u001b[0;34m(\u001b[0m\u001b[0;34m\"~~~~~~~~~~~~~~~~~~~~~~~~~~~~~~~~~~~~~~~~~~~~~~~~~~~~~~~\"\u001b[0m\u001b[0;34m)\u001b[0m\u001b[0;34m\u001b[0m\u001b[0;34m\u001b[0m\u001b[0m\n\u001b[0;32m----> 6\u001b[0;31m \u001b[0msmote_metrics\u001b[0m \u001b[0;34m=\u001b[0m \u001b[0mrun_transfer_model\u001b[0m\u001b[0;34m(\u001b[0m\u001b[0mclf\u001b[0m\u001b[0;34m,\u001b[0m \u001b[0mChem_X_res\u001b[0m\u001b[0;34m,\u001b[0m \u001b[0mChem_y_res\u001b[0m\u001b[0;34m,\u001b[0m \u001b[0mBio_X\u001b[0m\u001b[0;34m,\u001b[0m \u001b[0mBio_y\u001b[0m\u001b[0;34m)\u001b[0m\u001b[0;34m\u001b[0m\u001b[0;34m\u001b[0m\u001b[0m\n\u001b[0m\u001b[1;32m      7\u001b[0m \u001b[0;34m\u001b[0m\u001b[0m\n\u001b[1;32m      8\u001b[0m \u001b[0madd_metrics_row\u001b[0m\u001b[0;34m(\u001b[0m\u001b[0;34m\"chem\"\u001b[0m\u001b[0;34m,\u001b[0m \u001b[0;34m\"bio\"\u001b[0m\u001b[0;34m,\u001b[0m \u001b[0mtype\u001b[0m\u001b[0;34m(\u001b[0m\u001b[0mclf\u001b[0m\u001b[0;34m)\u001b[0m\u001b[0;34m,\u001b[0m \u001b[0mnormal_metrics\u001b[0m\u001b[0;34m,\u001b[0m \u001b[0msmote_metrics\u001b[0m\u001b[0;34m,\u001b[0m \u001b[0mdf_metrics\u001b[0m\u001b[0;34m)\u001b[0m\u001b[0;34m\u001b[0m\u001b[0;34m\u001b[0m\u001b[0m\n",
      "\u001b[0;32m<ipython-input-15-7baeeeba2225>\u001b[0m in \u001b[0;36mrun_transfer_model\u001b[0;34m(model, train_X, train_y, target_X, target_y)\u001b[0m\n\u001b[1;32m      6\u001b[0m     \u001b[0mmodel\u001b[0m\u001b[0;34m.\u001b[0m\u001b[0mfit\u001b[0m\u001b[0;34m(\u001b[0m\u001b[0mtrain_X\u001b[0m\u001b[0;34m,\u001b[0m \u001b[0mtrain_y\u001b[0m\u001b[0;34m)\u001b[0m\u001b[0;34m\u001b[0m\u001b[0;34m\u001b[0m\u001b[0m\n\u001b[1;32m      7\u001b[0m     \u001b[0my_predi\u001b[0m \u001b[0;34m=\u001b[0m \u001b[0mmodel\u001b[0m\u001b[0;34m.\u001b[0m\u001b[0mpredict\u001b[0m\u001b[0;34m(\u001b[0m\u001b[0mtarget_X\u001b[0m\u001b[0;34m)\u001b[0m\u001b[0;34m\u001b[0m\u001b[0;34m\u001b[0m\u001b[0m\n\u001b[0;32m----> 8\u001b[0;31m     \u001b[0mmetrics\u001b[0m \u001b[0;34m=\u001b[0m \u001b[0mproduce_metrics\u001b[0m\u001b[0;34m(\u001b[0m\u001b[0mtarget_y\u001b[0m\u001b[0;34m,\u001b[0m \u001b[0my_predi\u001b[0m\u001b[0;34m)\u001b[0m\u001b[0;34m\u001b[0m\u001b[0;34m\u001b[0m\u001b[0m\n\u001b[0m\u001b[1;32m      9\u001b[0m     \u001b[0mprint\u001b[0m\u001b[0;34m(\u001b[0m\u001b[0mconfusion_matrix\u001b[0m\u001b[0;34m(\u001b[0m\u001b[0mtarget_y\u001b[0m\u001b[0;34m,\u001b[0m \u001b[0my_predi\u001b[0m\u001b[0;34m)\u001b[0m\u001b[0;34m)\u001b[0m\u001b[0;34m\u001b[0m\u001b[0;34m\u001b[0m\u001b[0m\n\u001b[1;32m     10\u001b[0m     \u001b[0;32mreturn\u001b[0m \u001b[0;34m(\u001b[0m\u001b[0mmetrics\u001b[0m\u001b[0;34m)\u001b[0m\u001b[0;34m\u001b[0m\u001b[0;34m\u001b[0m\u001b[0m\n",
      "\u001b[0;32m<ipython-input-14-c964742ca0b5>\u001b[0m in \u001b[0;36mproduce_metrics\u001b[0;34m(y_actual, y_predicted)\u001b[0m\n\u001b[1;32m      1\u001b[0m \u001b[0;32mdef\u001b[0m \u001b[0mproduce_metrics\u001b[0m\u001b[0;34m(\u001b[0m\u001b[0my_actual\u001b[0m\u001b[0;34m,\u001b[0m \u001b[0my_predicted\u001b[0m\u001b[0;34m)\u001b[0m\u001b[0;34m:\u001b[0m\u001b[0;34m\u001b[0m\u001b[0;34m\u001b[0m\u001b[0m\n\u001b[1;32m      2\u001b[0m \u001b[0;34m\u001b[0m\u001b[0m\n\u001b[0;32m----> 3\u001b[0;31m     \u001b[0mrounded\u001b[0m \u001b[0;34m=\u001b[0m \u001b[0mlist\u001b[0m\u001b[0;34m(\u001b[0m\u001b[0mnp\u001b[0m\u001b[0;34m.\u001b[0m\u001b[0maround\u001b[0m\u001b[0;34m(\u001b[0m\u001b[0mnp\u001b[0m\u001b[0;34m.\u001b[0m\u001b[0marray\u001b[0m\u001b[0;34m(\u001b[0m\u001b[0mprecision_recall_fscore_support\u001b[0m\u001b[0;34m(\u001b[0m\u001b[0my_actual\u001b[0m\u001b[0;34m,\u001b[0m \u001b[0my_predicted\u001b[0m\u001b[0;34m,\u001b[0m\u001b[0maverage\u001b[0m \u001b[0;34m=\u001b[0m \u001b[0;32mNone\u001b[0m\u001b[0;34m)\u001b[0m\u001b[0;34m)\u001b[0m\u001b[0;34m,\u001b[0m\u001b[0;36m2\u001b[0m\u001b[0;34m)\u001b[0m\u001b[0;34m)\u001b[0m\u001b[0;34m\u001b[0m\u001b[0;34m\u001b[0m\u001b[0m\n\u001b[0m\u001b[1;32m      4\u001b[0m     \u001b[0mprint\u001b[0m\u001b[0;34m(\u001b[0m\u001b[0mrounded\u001b[0m\u001b[0;34m)\u001b[0m\u001b[0;34m\u001b[0m\u001b[0;34m\u001b[0m\u001b[0m\n\u001b[1;32m      5\u001b[0m     \u001b[0;32mreturn\u001b[0m \u001b[0;34m(\u001b[0m\u001b[0mrounded\u001b[0m\u001b[0;34m)\u001b[0m\u001b[0;34m\u001b[0m\u001b[0;34m\u001b[0m\u001b[0m\n",
      "\u001b[0;32m/home/adam/.local/lib/python3.7/site-packages/sklearn/utils/validation.py\u001b[0m in \u001b[0;36minner_f\u001b[0;34m(*args, **kwargs)\u001b[0m\n\u001b[1;32m     61\u001b[0m             \u001b[0mextra_args\u001b[0m \u001b[0;34m=\u001b[0m \u001b[0mlen\u001b[0m\u001b[0;34m(\u001b[0m\u001b[0margs\u001b[0m\u001b[0;34m)\u001b[0m \u001b[0;34m-\u001b[0m \u001b[0mlen\u001b[0m\u001b[0;34m(\u001b[0m\u001b[0mall_args\u001b[0m\u001b[0;34m)\u001b[0m\u001b[0;34m\u001b[0m\u001b[0;34m\u001b[0m\u001b[0m\n\u001b[1;32m     62\u001b[0m             \u001b[0;32mif\u001b[0m \u001b[0mextra_args\u001b[0m \u001b[0;34m<=\u001b[0m \u001b[0;36m0\u001b[0m\u001b[0;34m:\u001b[0m\u001b[0;34m\u001b[0m\u001b[0;34m\u001b[0m\u001b[0m\n\u001b[0;32m---> 63\u001b[0;31m                 \u001b[0;32mreturn\u001b[0m \u001b[0mf\u001b[0m\u001b[0;34m(\u001b[0m\u001b[0;34m*\u001b[0m\u001b[0margs\u001b[0m\u001b[0;34m,\u001b[0m \u001b[0;34m**\u001b[0m\u001b[0mkwargs\u001b[0m\u001b[0;34m)\u001b[0m\u001b[0;34m\u001b[0m\u001b[0;34m\u001b[0m\u001b[0m\n\u001b[0m\u001b[1;32m     64\u001b[0m \u001b[0;34m\u001b[0m\u001b[0m\n\u001b[1;32m     65\u001b[0m             \u001b[0;31m# extra_args > 0\u001b[0m\u001b[0;34m\u001b[0m\u001b[0;34m\u001b[0m\u001b[0;34m\u001b[0m\u001b[0m\n",
      "\u001b[0;32m/home/adam/.local/lib/python3.7/site-packages/sklearn/metrics/_classification.py\u001b[0m in \u001b[0;36mprecision_recall_fscore_support\u001b[0;34m(y_true, y_pred, beta, labels, pos_label, average, warn_for, sample_weight, zero_division)\u001b[0m\n\u001b[1;32m   1466\u001b[0m     MCM = multilabel_confusion_matrix(y_true, y_pred,\n\u001b[1;32m   1467\u001b[0m                                       \u001b[0msample_weight\u001b[0m\u001b[0;34m=\u001b[0m\u001b[0msample_weight\u001b[0m\u001b[0;34m,\u001b[0m\u001b[0;34m\u001b[0m\u001b[0;34m\u001b[0m\u001b[0m\n\u001b[0;32m-> 1468\u001b[0;31m                                       labels=labels, samplewise=samplewise)\n\u001b[0m\u001b[1;32m   1469\u001b[0m     \u001b[0mtp_sum\u001b[0m \u001b[0;34m=\u001b[0m \u001b[0mMCM\u001b[0m\u001b[0;34m[\u001b[0m\u001b[0;34m:\u001b[0m\u001b[0;34m,\u001b[0m \u001b[0;36m1\u001b[0m\u001b[0;34m,\u001b[0m \u001b[0;36m1\u001b[0m\u001b[0;34m]\u001b[0m\u001b[0;34m\u001b[0m\u001b[0;34m\u001b[0m\u001b[0m\n\u001b[1;32m   1470\u001b[0m     \u001b[0mpred_sum\u001b[0m \u001b[0;34m=\u001b[0m \u001b[0mtp_sum\u001b[0m \u001b[0;34m+\u001b[0m \u001b[0mMCM\u001b[0m\u001b[0;34m[\u001b[0m\u001b[0;34m:\u001b[0m\u001b[0;34m,\u001b[0m \u001b[0;36m0\u001b[0m\u001b[0;34m,\u001b[0m \u001b[0;36m1\u001b[0m\u001b[0;34m]\u001b[0m\u001b[0;34m\u001b[0m\u001b[0;34m\u001b[0m\u001b[0m\n",
      "\u001b[0;32m/home/adam/.local/lib/python3.7/site-packages/sklearn/utils/validation.py\u001b[0m in \u001b[0;36minner_f\u001b[0;34m(*args, **kwargs)\u001b[0m\n\u001b[1;32m     61\u001b[0m             \u001b[0mextra_args\u001b[0m \u001b[0;34m=\u001b[0m \u001b[0mlen\u001b[0m\u001b[0;34m(\u001b[0m\u001b[0margs\u001b[0m\u001b[0;34m)\u001b[0m \u001b[0;34m-\u001b[0m \u001b[0mlen\u001b[0m\u001b[0;34m(\u001b[0m\u001b[0mall_args\u001b[0m\u001b[0;34m)\u001b[0m\u001b[0;34m\u001b[0m\u001b[0;34m\u001b[0m\u001b[0m\n\u001b[1;32m     62\u001b[0m             \u001b[0;32mif\u001b[0m \u001b[0mextra_args\u001b[0m \u001b[0;34m<=\u001b[0m \u001b[0;36m0\u001b[0m\u001b[0;34m:\u001b[0m\u001b[0;34m\u001b[0m\u001b[0;34m\u001b[0m\u001b[0m\n\u001b[0;32m---> 63\u001b[0;31m                 \u001b[0;32mreturn\u001b[0m \u001b[0mf\u001b[0m\u001b[0;34m(\u001b[0m\u001b[0;34m*\u001b[0m\u001b[0margs\u001b[0m\u001b[0;34m,\u001b[0m \u001b[0;34m**\u001b[0m\u001b[0mkwargs\u001b[0m\u001b[0;34m)\u001b[0m\u001b[0;34m\u001b[0m\u001b[0;34m\u001b[0m\u001b[0m\n\u001b[0m\u001b[1;32m     64\u001b[0m \u001b[0;34m\u001b[0m\u001b[0m\n\u001b[1;32m     65\u001b[0m             \u001b[0;31m# extra_args > 0\u001b[0m\u001b[0;34m\u001b[0m\u001b[0;34m\u001b[0m\u001b[0;34m\u001b[0m\u001b[0m\n",
      "\u001b[0;32m/home/adam/.local/lib/python3.7/site-packages/sklearn/metrics/_classification.py\u001b[0m in \u001b[0;36mmultilabel_confusion_matrix\u001b[0;34m(y_true, y_pred, sample_weight, labels, samplewise)\u001b[0m\n\u001b[1;32m    454\u001b[0m             [1, 2]]])\n\u001b[1;32m    455\u001b[0m     \"\"\"\n\u001b[0;32m--> 456\u001b[0;31m     \u001b[0my_type\u001b[0m\u001b[0;34m,\u001b[0m \u001b[0my_true\u001b[0m\u001b[0;34m,\u001b[0m \u001b[0my_pred\u001b[0m \u001b[0;34m=\u001b[0m \u001b[0m_check_targets\u001b[0m\u001b[0;34m(\u001b[0m\u001b[0my_true\u001b[0m\u001b[0;34m,\u001b[0m \u001b[0my_pred\u001b[0m\u001b[0;34m)\u001b[0m\u001b[0;34m\u001b[0m\u001b[0;34m\u001b[0m\u001b[0m\n\u001b[0m\u001b[1;32m    457\u001b[0m     \u001b[0;32mif\u001b[0m \u001b[0msample_weight\u001b[0m \u001b[0;32mis\u001b[0m \u001b[0;32mnot\u001b[0m \u001b[0;32mNone\u001b[0m\u001b[0;34m:\u001b[0m\u001b[0;34m\u001b[0m\u001b[0;34m\u001b[0m\u001b[0m\n\u001b[1;32m    458\u001b[0m         \u001b[0msample_weight\u001b[0m \u001b[0;34m=\u001b[0m \u001b[0mcolumn_or_1d\u001b[0m\u001b[0;34m(\u001b[0m\u001b[0msample_weight\u001b[0m\u001b[0;34m)\u001b[0m\u001b[0;34m\u001b[0m\u001b[0;34m\u001b[0m\u001b[0m\n",
      "\u001b[0;32m/home/adam/.local/lib/python3.7/site-packages/sklearn/metrics/_classification.py\u001b[0m in \u001b[0;36m_check_targets\u001b[0;34m(y_true, y_pred)\u001b[0m\n\u001b[1;32m    105\u001b[0m         \u001b[0;32mif\u001b[0m \u001b[0my_type\u001b[0m \u001b[0;34m==\u001b[0m \u001b[0;34m\"binary\"\u001b[0m\u001b[0;34m:\u001b[0m\u001b[0;34m\u001b[0m\u001b[0;34m\u001b[0m\u001b[0m\n\u001b[1;32m    106\u001b[0m             \u001b[0;32mtry\u001b[0m\u001b[0;34m:\u001b[0m\u001b[0;34m\u001b[0m\u001b[0;34m\u001b[0m\u001b[0m\n\u001b[0;32m--> 107\u001b[0;31m                 \u001b[0munique_values\u001b[0m \u001b[0;34m=\u001b[0m \u001b[0mnp\u001b[0m\u001b[0;34m.\u001b[0m\u001b[0munion1d\u001b[0m\u001b[0;34m(\u001b[0m\u001b[0my_true\u001b[0m\u001b[0;34m,\u001b[0m \u001b[0my_pred\u001b[0m\u001b[0;34m)\u001b[0m\u001b[0;34m\u001b[0m\u001b[0;34m\u001b[0m\u001b[0m\n\u001b[0m\u001b[1;32m    108\u001b[0m             \u001b[0;32mexcept\u001b[0m \u001b[0mTypeError\u001b[0m \u001b[0;32mas\u001b[0m \u001b[0me\u001b[0m\u001b[0;34m:\u001b[0m\u001b[0;34m\u001b[0m\u001b[0;34m\u001b[0m\u001b[0m\n\u001b[1;32m    109\u001b[0m                 \u001b[0;31m# We expect y_true and y_pred to be of the same data type.\u001b[0m\u001b[0;34m\u001b[0m\u001b[0;34m\u001b[0m\u001b[0;34m\u001b[0m\u001b[0m\n",
      "\u001b[0;32m<__array_function__ internals>\u001b[0m in \u001b[0;36munion1d\u001b[0;34m(*args, **kwargs)\u001b[0m\n",
      "\u001b[0;32m/home/adam/.local/lib/python3.7/site-packages/numpy/lib/arraysetops.py\u001b[0m in \u001b[0;36munion1d\u001b[0;34m(ar1, ar2)\u001b[0m\n\u001b[1;32m    747\u001b[0m     \u001b[0marray\u001b[0m\u001b[0;34m(\u001b[0m\u001b[0;34m[\u001b[0m\u001b[0;36m1\u001b[0m\u001b[0;34m,\u001b[0m \u001b[0;36m2\u001b[0m\u001b[0;34m,\u001b[0m \u001b[0;36m3\u001b[0m\u001b[0;34m,\u001b[0m \u001b[0;36m4\u001b[0m\u001b[0;34m,\u001b[0m \u001b[0;36m6\u001b[0m\u001b[0;34m]\u001b[0m\u001b[0;34m)\u001b[0m\u001b[0;34m\u001b[0m\u001b[0;34m\u001b[0m\u001b[0m\n\u001b[1;32m    748\u001b[0m     \"\"\"\n\u001b[0;32m--> 749\u001b[0;31m     \u001b[0;32mreturn\u001b[0m \u001b[0munique\u001b[0m\u001b[0;34m(\u001b[0m\u001b[0mnp\u001b[0m\u001b[0;34m.\u001b[0m\u001b[0mconcatenate\u001b[0m\u001b[0;34m(\u001b[0m\u001b[0;34m(\u001b[0m\u001b[0mar1\u001b[0m\u001b[0;34m,\u001b[0m \u001b[0mar2\u001b[0m\u001b[0;34m)\u001b[0m\u001b[0;34m,\u001b[0m \u001b[0maxis\u001b[0m\u001b[0;34m=\u001b[0m\u001b[0;32mNone\u001b[0m\u001b[0;34m)\u001b[0m\u001b[0;34m)\u001b[0m\u001b[0;34m\u001b[0m\u001b[0;34m\u001b[0m\u001b[0m\n\u001b[0m\u001b[1;32m    750\u001b[0m \u001b[0;34m\u001b[0m\u001b[0m\n\u001b[1;32m    751\u001b[0m \u001b[0;34m\u001b[0m\u001b[0m\n",
      "\u001b[0;32m<__array_function__ internals>\u001b[0m in \u001b[0;36munique\u001b[0;34m(*args, **kwargs)\u001b[0m\n",
      "\u001b[0;32m/home/adam/.local/lib/python3.7/site-packages/numpy/lib/arraysetops.py\u001b[0m in \u001b[0;36munique\u001b[0;34m(ar, return_index, return_inverse, return_counts, axis)\u001b[0m\n\u001b[1;32m    259\u001b[0m     \u001b[0mar\u001b[0m \u001b[0;34m=\u001b[0m \u001b[0mnp\u001b[0m\u001b[0;34m.\u001b[0m\u001b[0masanyarray\u001b[0m\u001b[0;34m(\u001b[0m\u001b[0mar\u001b[0m\u001b[0;34m)\u001b[0m\u001b[0;34m\u001b[0m\u001b[0;34m\u001b[0m\u001b[0m\n\u001b[1;32m    260\u001b[0m     \u001b[0;32mif\u001b[0m \u001b[0maxis\u001b[0m \u001b[0;32mis\u001b[0m \u001b[0;32mNone\u001b[0m\u001b[0;34m:\u001b[0m\u001b[0;34m\u001b[0m\u001b[0;34m\u001b[0m\u001b[0m\n\u001b[0;32m--> 261\u001b[0;31m         \u001b[0mret\u001b[0m \u001b[0;34m=\u001b[0m \u001b[0m_unique1d\u001b[0m\u001b[0;34m(\u001b[0m\u001b[0mar\u001b[0m\u001b[0;34m,\u001b[0m \u001b[0mreturn_index\u001b[0m\u001b[0;34m,\u001b[0m \u001b[0mreturn_inverse\u001b[0m\u001b[0;34m,\u001b[0m \u001b[0mreturn_counts\u001b[0m\u001b[0;34m)\u001b[0m\u001b[0;34m\u001b[0m\u001b[0;34m\u001b[0m\u001b[0m\n\u001b[0m\u001b[1;32m    262\u001b[0m         \u001b[0;32mreturn\u001b[0m \u001b[0m_unpack_tuple\u001b[0m\u001b[0;34m(\u001b[0m\u001b[0mret\u001b[0m\u001b[0;34m)\u001b[0m\u001b[0;34m\u001b[0m\u001b[0;34m\u001b[0m\u001b[0m\n\u001b[1;32m    263\u001b[0m \u001b[0;34m\u001b[0m\u001b[0m\n",
      "\u001b[0;32m/home/adam/.local/lib/python3.7/site-packages/numpy/lib/arraysetops.py\u001b[0m in \u001b[0;36m_unique1d\u001b[0;34m(ar, return_index, return_inverse, return_counts)\u001b[0m\n\u001b[1;32m    320\u001b[0m         \u001b[0maux\u001b[0m \u001b[0;34m=\u001b[0m \u001b[0mar\u001b[0m\u001b[0;34m[\u001b[0m\u001b[0mperm\u001b[0m\u001b[0;34m]\u001b[0m\u001b[0;34m\u001b[0m\u001b[0;34m\u001b[0m\u001b[0m\n\u001b[1;32m    321\u001b[0m     \u001b[0;32melse\u001b[0m\u001b[0;34m:\u001b[0m\u001b[0;34m\u001b[0m\u001b[0;34m\u001b[0m\u001b[0m\n\u001b[0;32m--> 322\u001b[0;31m         \u001b[0mar\u001b[0m\u001b[0;34m.\u001b[0m\u001b[0msort\u001b[0m\u001b[0;34m(\u001b[0m\u001b[0;34m)\u001b[0m\u001b[0;34m\u001b[0m\u001b[0;34m\u001b[0m\u001b[0m\n\u001b[0m\u001b[1;32m    323\u001b[0m         \u001b[0maux\u001b[0m \u001b[0;34m=\u001b[0m \u001b[0mar\u001b[0m\u001b[0;34m\u001b[0m\u001b[0;34m\u001b[0m\u001b[0m\n\u001b[1;32m    324\u001b[0m     \u001b[0mmask\u001b[0m \u001b[0;34m=\u001b[0m \u001b[0mnp\u001b[0m\u001b[0;34m.\u001b[0m\u001b[0mempty\u001b[0m\u001b[0;34m(\u001b[0m\u001b[0maux\u001b[0m\u001b[0;34m.\u001b[0m\u001b[0mshape\u001b[0m\u001b[0;34m,\u001b[0m \u001b[0mdtype\u001b[0m\u001b[0;34m=\u001b[0m\u001b[0mnp\u001b[0m\u001b[0;34m.\u001b[0m\u001b[0mbool_\u001b[0m\u001b[0;34m)\u001b[0m\u001b[0;34m\u001b[0m\u001b[0;34m\u001b[0m\u001b[0m\n",
      "\u001b[0;31mKeyboardInterrupt\u001b[0m: "
     ]
    }
   ],
   "source": [
    "clf = BernoulliNB()\n",
    "\n",
    "normal_metrics = run_transfer_model(clf, Chem_X, Chem_y, Bio_X, Bio_y)\n",
    "print(\"~~~~~~~~~~~~~~~~~~~~~~~~~~~~~~~~~~~~~~~~~~~~~~~~~~~~~~~\")\n",
    "print(\"~~~~~~~~~~~~~~~~~~~~~~~~~~~~~~~~~~~~~~~~~~~~~~~~~~~~~~~\")\n",
    "smote_metrics = run_transfer_model(clf, Chem_X_res, Chem_y_res, Bio_X, Bio_y)\n",
    "\n",
    "add_metrics_row(\"chem\", \"bio\", type(clf), normal_metrics, smote_metrics, df_metrics)"
   ]
  },
  {
   "cell_type": "code",
   "execution_count": null,
   "metadata": {},
   "outputs": [],
   "source": [
    "clf = MLPClassifier(solver='lbfgs', alpha=1e-5, random_state=1)\n",
    "\n",
    "normal_metrics = run_transfer_model(clf, Chem_X, Chem_y, Bio_X, Bio_y)\n",
    "print(\"~~~~~~~~~~~~~~~~~~~~~~~~~~~~~~~~~~~~~~~~~~~~~~~~~~~~~~~\")\n",
    "print(\"~~~~~~~~~~~~~~~~~~~~~~~~~~~~~~~~~~~~~~~~~~~~~~~~~~~~~~~\")\n",
    "smote_metrics = run_transfer_model(clf, Chem_X_res, Chem_y_res, Bio_X, Bio_y)\n",
    "\n",
    "add_metrics_row(\"chem\", \"bio\", type(clf), normal_metrics, smote_metrics, df_metrics)"
   ]
  },
  {
   "cell_type": "code",
   "execution_count": null,
   "metadata": {},
   "outputs": [],
   "source": [
    "clf = RandomForestClassifier(n_estimators=100, max_depth=2, random_state=0)\n",
    "\n",
    "normal_metrics = run_transfer_model(clf, Chem_X, Chem_y, Bio_X, Bio_y)\n",
    "print(\"~~~~~~~~~~~~~~~~~~~~~~~~~~~~~~~~~~~~~~~~~~~~~~~~~~~~~~~\")\n",
    "print(\"~~~~~~~~~~~~~~~~~~~~~~~~~~~~~~~~~~~~~~~~~~~~~~~~~~~~~~~\")\n",
    "smote_metrics = run_transfer_model(clf, Chem_X_res, Chem_y_res, Bio_X, Bio_y)\n",
    "\n",
    "add_metrics_row(\"chem\", \"bio\", type(clf), normal_metrics, smote_metrics, df_metrics)"
   ]
  },
  {
   "cell_type": "markdown",
   "metadata": {},
   "source": [
    "***\n",
    "### Chem -> Astro\n",
    "***"
   ]
  },
  {
   "cell_type": "code",
   "execution_count": null,
   "metadata": {},
   "outputs": [],
   "source": [
    "clf = DecisionTreeClassifier(random_state=37)\n",
    "\n",
    "normal_metrics = run_transfer_model(clf, Chem_X, Chem_y, Astro_X, Astro_y)\n",
    "print(\"~~~~~~~~~~~~~~~~~~~~~~~~~~~~~~~~~~~~~~~~~~~~~~~~~~~~~~~\")\n",
    "print(\"~~~~~~~~~~~~~~~~~~~~~~~~~~~~~~~~~~~~~~~~~~~~~~~~~~~~~~~\")\n",
    "smote_metrics = run_transfer_model(clf, Chem_X_res, Chem_y_res, Astro_X, Astro_y)\n",
    "\n",
    "add_metrics_row(\"chem\", \"astro\", type(clf), normal_metrics, smote_metrics, df_metrics)"
   ]
  },
  {
   "cell_type": "code",
   "execution_count": null,
   "metadata": {},
   "outputs": [],
   "source": [
    "clf = KNeighborsClassifier(n_neighbors = 547)\n",
    "\n",
    "normal_metrics = run_transfer_model(clf, Chem_X, Chem_y, Astro_X, Astro_y)\n",
    "print(\"~~~~~~~~~~~~~~~~~~~~~~~~~~~~~~~~~~~~~~~~~~~~~~~~~~~~~~~\")\n",
    "print(\"~~~~~~~~~~~~~~~~~~~~~~~~~~~~~~~~~~~~~~~~~~~~~~~~~~~~~~~\")\n",
    "smote_metrics = run_transfer_model(clf, Chem_X_res, Chem_y_res, Astro_X, Astro_y)\n",
    "\n",
    "add_metrics_row(\"chem\", \"astro\", type(clf), normal_metrics, smote_metrics, df_metrics)"
   ]
  },
  {
   "cell_type": "code",
   "execution_count": null,
   "metadata": {},
   "outputs": [],
   "source": [
    "clf = BernoulliNB()\n",
    "\n",
    "normal_metrics = run_transfer_model(clf, Chem_X, Chem_y, Astro_X, Astro_y)\n",
    "print(\"~~~~~~~~~~~~~~~~~~~~~~~~~~~~~~~~~~~~~~~~~~~~~~~~~~~~~~~\")\n",
    "print(\"~~~~~~~~~~~~~~~~~~~~~~~~~~~~~~~~~~~~~~~~~~~~~~~~~~~~~~~\")\n",
    "smote_metrics = run_transfer_model(clf, Chem_X_res, Chem_y_res, Astro_X, Astro_y)\n",
    "\n",
    "add_metrics_row(\"chem\", \"astro\", type(clf), normal_metrics, smote_metrics, df_metrics)"
   ]
  },
  {
   "cell_type": "code",
   "execution_count": null,
   "metadata": {},
   "outputs": [],
   "source": [
    "clf = MLPClassifier(solver='lbfgs', alpha=1e-5, random_state=1)\n",
    "\n",
    "normal_metrics = run_transfer_model(clf, Chem_X, Chem_y, Astro_X, Astro_y)\n",
    "print(\"~~~~~~~~~~~~~~~~~~~~~~~~~~~~~~~~~~~~~~~~~~~~~~~~~~~~~~~\")\n",
    "print(\"~~~~~~~~~~~~~~~~~~~~~~~~~~~~~~~~~~~~~~~~~~~~~~~~~~~~~~~\")\n",
    "smote_metrics = run_transfer_model(clf, Chem_X_res, Chem_y_res, Astro_X, Astro_y)\n",
    "\n",
    "add_metrics_row(\"chem\", \"astro\", type(clf), normal_metrics, smote_metrics, df_metrics)"
   ]
  },
  {
   "cell_type": "code",
   "execution_count": null,
   "metadata": {},
   "outputs": [],
   "source": [
    "clf = RandomForestClassifier(n_estimators=100, max_depth=2, random_state=0)\n",
    "\n",
    "normal_metrics = run_transfer_model(clf, Chem_X, Chem_y, Astro_X, Astro_y)\n",
    "print(\"~~~~~~~~~~~~~~~~~~~~~~~~~~~~~~~~~~~~~~~~~~~~~~~~~~~~~~~\")\n",
    "print(\"~~~~~~~~~~~~~~~~~~~~~~~~~~~~~~~~~~~~~~~~~~~~~~~~~~~~~~~\")\n",
    "smote_metrics = run_transfer_model(clf, Chem_X_res, Chem_y_res, Astro_X, Astro_y)\n",
    "\n",
    "add_metrics_row(\"chem\", \"astro\", type(clf), normal_metrics, smote_metrics, df_metrics)"
   ]
  },
  {
   "cell_type": "markdown",
   "metadata": {},
   "source": [
    "***\n",
    "### Chem -> Others\n",
    "***"
   ]
  },
  {
   "cell_type": "code",
   "execution_count": null,
   "metadata": {},
   "outputs": [],
   "source": [
    "clf = DecisionTreeClassifier(random_state=37)\n",
    "\n",
    "normal_metrics = run_transfer_model(clf, Chem_X, Chem_y, Others_X, Others_y)\n",
    "print(\"~~~~~~~~~~~~~~~~~~~~~~~~~~~~~~~~~~~~~~~~~~~~~~~~~~~~~~~\")\n",
    "print(\"~~~~~~~~~~~~~~~~~~~~~~~~~~~~~~~~~~~~~~~~~~~~~~~~~~~~~~~\")\n",
    "smote_metrics = run_transfer_model(clf, Chem_X_res, Chem_y_res, Others_X, Others_y)\n",
    "\n",
    "add_metrics_row(\"chem\", \"others\", type(clf), normal_metrics, smote_metrics, df_metrics)"
   ]
  },
  {
   "cell_type": "code",
   "execution_count": null,
   "metadata": {},
   "outputs": [],
   "source": [
    "clf = KNeighborsClassifier(n_neighbors = 547)\n",
    "\n",
    "normal_metrics = run_transfer_model(clf, Chem_X, Chem_y, Others_X, Others_y)\n",
    "print(\"~~~~~~~~~~~~~~~~~~~~~~~~~~~~~~~~~~~~~~~~~~~~~~~~~~~~~~~\")\n",
    "print(\"~~~~~~~~~~~~~~~~~~~~~~~~~~~~~~~~~~~~~~~~~~~~~~~~~~~~~~~\")\n",
    "smote_metrics = run_transfer_model(clf, Chem_X_res, Chem_y_res, Others_X, Others_y)\n",
    "\n",
    "add_metrics_row(\"chem\", \"others\", type(clf), normal_metrics, smote_metrics, df_metrics)"
   ]
  },
  {
   "cell_type": "code",
   "execution_count": null,
   "metadata": {},
   "outputs": [],
   "source": [
    "clf = BernoulliNB()\n",
    "\n",
    "normal_metrics = run_transfer_model(clf, Chem_X, Chem_y, Others_X, Others_y)\n",
    "print(\"~~~~~~~~~~~~~~~~~~~~~~~~~~~~~~~~~~~~~~~~~~~~~~~~~~~~~~~\")\n",
    "print(\"~~~~~~~~~~~~~~~~~~~~~~~~~~~~~~~~~~~~~~~~~~~~~~~~~~~~~~~\")\n",
    "smote_metrics = run_transfer_model(clf, Chem_X_res, Chem_y_res, Others_X, Others_y)\n",
    "\n",
    "add_metrics_row(\"chem\", \"others\", type(clf), normal_metrics, smote_metrics, df_metrics)"
   ]
  },
  {
   "cell_type": "code",
   "execution_count": null,
   "metadata": {},
   "outputs": [],
   "source": [
    "clf = MLPClassifier(solver='lbfgs', alpha=1e-5, random_state=1)\n",
    "\n",
    "normal_metrics = run_transfer_model(clf, Chem_X, Chem_y, Others_X, Others_y)\n",
    "print(\"~~~~~~~~~~~~~~~~~~~~~~~~~~~~~~~~~~~~~~~~~~~~~~~~~~~~~~~\")\n",
    "print(\"~~~~~~~~~~~~~~~~~~~~~~~~~~~~~~~~~~~~~~~~~~~~~~~~~~~~~~~\")\n",
    "smote_metrics = run_transfer_model(clf, Chem_X_res, Chem_y_res, Others_X, Others_y)\n",
    "\n",
    "add_metrics_row(\"chem\", \"others\", type(clf), normal_metrics, smote_metrics, df_metrics)"
   ]
  },
  {
   "cell_type": "code",
   "execution_count": null,
   "metadata": {},
   "outputs": [],
   "source": [
    "clf = RandomForestClassifier(n_estimators=100, max_depth=2, random_state=0)\n",
    "\n",
    "normal_metrics = run_transfer_model(clf, Chem_X, Chem_y, Others_X, Others_y)\n",
    "print(\"~~~~~~~~~~~~~~~~~~~~~~~~~~~~~~~~~~~~~~~~~~~~~~~~~~~~~~~\")\n",
    "print(\"~~~~~~~~~~~~~~~~~~~~~~~~~~~~~~~~~~~~~~~~~~~~~~~~~~~~~~~\")\n",
    "smote_metrics = run_transfer_model(clf, Chem_X_res, Chem_y_res, Others_X, Others_y)\n",
    "\n",
    "add_metrics_row(\"chem\", \"others\", type(clf), normal_metrics, smote_metrics, df_metrics)"
   ]
  },
  {
   "cell_type": "code",
   "execution_count": null,
   "metadata": {
    "scrolled": true
   },
   "outputs": [],
   "source": [
    "df_metrics"
   ]
  },
  {
   "cell_type": "code",
   "execution_count": null,
   "metadata": {},
   "outputs": [],
   "source": [
    "df_metrics.to_csv('metrics.csv')"
   ]
  },
  {
   "cell_type": "code",
   "execution_count": null,
   "metadata": {},
   "outputs": [],
   "source": []
  },
  {
   "cell_type": "code",
   "execution_count": null,
   "metadata": {},
   "outputs": [],
   "source": []
  },
  {
   "cell_type": "code",
   "execution_count": null,
   "metadata": {},
   "outputs": [],
   "source": []
  },
  {
   "cell_type": "code",
   "execution_count": null,
   "metadata": {},
   "outputs": [],
   "source": []
  }
 ],
 "metadata": {
  "kernelspec": {
   "display_name": "Python 3",
   "language": "python",
   "name": "python3"
  },
  "language_info": {
   "codemirror_mode": {
    "name": "ipython",
    "version": 3
   },
   "file_extension": ".py",
   "mimetype": "text/x-python",
   "name": "python",
   "nbconvert_exporter": "python",
   "pygments_lexer": "ipython3",
   "version": "3.7.3"
  }
 },
 "nbformat": 4,
 "nbformat_minor": 4
}
